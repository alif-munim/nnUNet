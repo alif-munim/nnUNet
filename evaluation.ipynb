{
 "cells": [
  {
   "cell_type": "markdown",
   "id": "f9cb91ae-6802-4390-b1a4-c159ac059b01",
   "metadata": {},
   "source": [
    "### Evaluation"
   ]
  },
  {
   "cell_type": "code",
   "execution_count": 1,
   "id": "24e2d584-8aeb-4566-840e-3d8866160388",
   "metadata": {},
   "outputs": [],
   "source": [
    "import json\n",
    "\n",
    "# Define the path to the JSON file\n",
    "json_file_path = 'nnUNet_raw_data_base/nnUNet_raw_data/Task006_PancreasUHN/file_mapping.json'\n",
    "\n",
    "# Open the JSON file and load it into a dictionary\n",
    "with open(json_file_path, 'r') as f:\n",
    "    file_mapping = json.load(f)"
   ]
  },
  {
   "cell_type": "code",
   "execution_count": 2,
   "id": "947d9fee-fad7-4a0e-b379-fb6e1a6ff52a",
   "metadata": {},
   "outputs": [],
   "source": [
    "import pandas as pd\n",
    "\n",
    "# Set maximum number of rows to display\n",
    "pd.set_option('display.max_rows', None)\n",
    "\n",
    "# Set maximum number of columns to display\n",
    "pd.set_option('display.max_columns', None)\n",
    "\n",
    "# Set maximum display width\n",
    "pd.set_option('display.width', 1000)\n",
    "\n",
    "# Set maximum number of columns to display\n",
    "pd.set_option('display.max_columns', None)\n",
    "\n",
    "# Set maximum column width\n",
    "pd.set_option('display.max_colwidth', None)\n",
    "\n",
    "df = pd.DataFrame.from_dict(file_mapping, orient='index', columns=['Renamed Path'])\n",
    "\n",
    "# Rename the index to 'Original Path'\n",
    "df.index.name = 'Original Path'\n",
    "\n",
    "# Reset the index to make 'Original Path' a column\n",
    "df.reset_index(inplace=True)"
   ]
  },
  {
   "cell_type": "code",
   "execution_count": 3,
   "id": "503b805b-121f-4b50-8ffe-82fa935f5027",
   "metadata": {},
   "outputs": [
    {
     "data": {
      "text/html": [
       "<div>\n",
       "<style scoped>\n",
       "    .dataframe tbody tr th:only-of-type {\n",
       "        vertical-align: middle;\n",
       "    }\n",
       "\n",
       "    .dataframe tbody tr th {\n",
       "        vertical-align: top;\n",
       "    }\n",
       "\n",
       "    .dataframe thead th {\n",
       "        text-align: right;\n",
       "    }\n",
       "</style>\n",
       "<table border=\"1\" class=\"dataframe\">\n",
       "  <thead>\n",
       "    <tr style=\"text-align: right;\">\n",
       "      <th></th>\n",
       "      <th>Original Path</th>\n",
       "      <th>Renamed Path</th>\n",
       "    </tr>\n",
       "  </thead>\n",
       "  <tbody>\n",
       "    <tr>\n",
       "      <th>0</th>\n",
       "      <td>original_data/UHN-MedImg3D-ML-quiz/train/subtype2/quiz_2_416_0000.nii.gz</td>\n",
       "      <td>original_data/Task006_PancreasUHN/imagesTr/case_001</td>\n",
       "    </tr>\n",
       "    <tr>\n",
       "      <th>1</th>\n",
       "      <td>original_data/UHN-MedImg3D-ML-quiz/train/subtype2/quiz_2_040_0000.nii.gz</td>\n",
       "      <td>original_data/Task006_PancreasUHN/imagesTr/case_002</td>\n",
       "    </tr>\n",
       "    <tr>\n",
       "      <th>2</th>\n",
       "      <td>original_data/UHN-MedImg3D-ML-quiz/train/subtype2/quiz_2_493_0000.nii.gz</td>\n",
       "      <td>original_data/Task006_PancreasUHN/imagesTr/case_003</td>\n",
       "    </tr>\n",
       "    <tr>\n",
       "      <th>3</th>\n",
       "      <td>original_data/UHN-MedImg3D-ML-quiz/train/subtype2/quiz_2_321_0000.nii.gz</td>\n",
       "      <td>original_data/Task006_PancreasUHN/imagesTr/case_004</td>\n",
       "    </tr>\n",
       "    <tr>\n",
       "      <th>4</th>\n",
       "      <td>original_data/UHN-MedImg3D-ML-quiz/train/subtype2/quiz_2_002_0000.nii.gz</td>\n",
       "      <td>original_data/Task006_PancreasUHN/imagesTr/case_005</td>\n",
       "    </tr>\n",
       "  </tbody>\n",
       "</table>\n",
       "</div>"
      ],
      "text/plain": [
       "                                                              Original Path                                         Renamed Path\n",
       "0  original_data/UHN-MedImg3D-ML-quiz/train/subtype2/quiz_2_416_0000.nii.gz  original_data/Task006_PancreasUHN/imagesTr/case_001\n",
       "1  original_data/UHN-MedImg3D-ML-quiz/train/subtype2/quiz_2_040_0000.nii.gz  original_data/Task006_PancreasUHN/imagesTr/case_002\n",
       "2  original_data/UHN-MedImg3D-ML-quiz/train/subtype2/quiz_2_493_0000.nii.gz  original_data/Task006_PancreasUHN/imagesTr/case_003\n",
       "3  original_data/UHN-MedImg3D-ML-quiz/train/subtype2/quiz_2_321_0000.nii.gz  original_data/Task006_PancreasUHN/imagesTr/case_004\n",
       "4  original_data/UHN-MedImg3D-ML-quiz/train/subtype2/quiz_2_002_0000.nii.gz  original_data/Task006_PancreasUHN/imagesTr/case_005"
      ]
     },
     "execution_count": 3,
     "metadata": {},
     "output_type": "execute_result"
    }
   ],
   "source": [
    "df.head()"
   ]
  },
  {
   "cell_type": "code",
   "execution_count": 4,
   "id": "f0032dd1-881c-4e07-921e-b6b798b96dfe",
   "metadata": {},
   "outputs": [],
   "source": [
    "df = pd.read_csv('nnUNet_raw_data_base/nnUNet_raw_data/Task006_PancreasUHN/class_mapping.csv')"
   ]
  },
  {
   "cell_type": "code",
   "execution_count": 5,
   "id": "ea18ccb0-a082-492d-a478-319da15db2d2",
   "metadata": {},
   "outputs": [],
   "source": [
    "df_train = df[df['Original Path'].str.contains('train')]\n",
    "df_test = df[df['Original Path'].str.contains('test')]\n",
    "df_val = df[df['Original Path'].str.contains('validation')]"
   ]
  },
  {
   "cell_type": "code",
   "execution_count": 6,
   "id": "71a71ac6-118d-4666-9565-674f23048209",
   "metadata": {},
   "outputs": [
    {
     "name": "stderr",
     "output_type": "stream",
     "text": [
      "/tmp/ipykernel_1084249/848698125.py:1: SettingWithCopyWarning: \n",
      "A value is trying to be set on a copy of a slice from a DataFrame.\n",
      "Try using .loc[row_indexer,col_indexer] = value instead\n",
      "\n",
      "See the caveats in the documentation: https://pandas.pydata.org/pandas-docs/stable/user_guide/indexing.html#returning-a-view-versus-a-copy\n",
      "  df_val['File ID'] = df_val['Original Path'].str.split('/').str[-1].str.replace('_0000.nii.gz', '')\n"
     ]
    }
   ],
   "source": [
    "df_val['File ID'] = df_val['Original Path'].str.split('/').str[-1].str.replace('_0000.nii.gz', '')"
   ]
  },
  {
   "cell_type": "code",
   "execution_count": 7,
   "id": "4a8bc9b3-4984-4ffb-a032-5b057d54c14c",
   "metadata": {},
   "outputs": [],
   "source": [
    "val_preds = pd.read_csv('/scratch/alif/nnUNet/original_data/pancreas_validation_preds/predictions.csv')"
   ]
  },
  {
   "cell_type": "code",
   "execution_count": 8,
   "id": "f6205718-1d4d-44a5-af80-6c1f2521b11b",
   "metadata": {},
   "outputs": [],
   "source": [
    "val_preds['File ID'] = val_preds['File'].str.split('/').str[-1].str.replace('.nii.gz', '')"
   ]
  },
  {
   "cell_type": "code",
   "execution_count": 9,
   "id": "813e0811-346d-4bbc-b65d-203d1a9139c0",
   "metadata": {},
   "outputs": [
    {
     "data": {
      "text/html": [
       "<div>\n",
       "<style scoped>\n",
       "    .dataframe tbody tr th:only-of-type {\n",
       "        vertical-align: middle;\n",
       "    }\n",
       "\n",
       "    .dataframe tbody tr th {\n",
       "        vertical-align: top;\n",
       "    }\n",
       "\n",
       "    .dataframe thead th {\n",
       "        text-align: right;\n",
       "    }\n",
       "</style>\n",
       "<table border=\"1\" class=\"dataframe\">\n",
       "  <thead>\n",
       "    <tr style=\"text-align: right;\">\n",
       "      <th></th>\n",
       "      <th>File</th>\n",
       "      <th>Label</th>\n",
       "      <th>Probs</th>\n",
       "      <th>File ID</th>\n",
       "    </tr>\n",
       "  </thead>\n",
       "  <tbody>\n",
       "    <tr>\n",
       "      <th>0</th>\n",
       "      <td>original_data/pancreas_validation_preds/quiz_1_213.nii.gz</td>\n",
       "      <td>1</td>\n",
       "      <td>[[0.00011146068572998047, 0.84521484375, 0.154541015625]]</td>\n",
       "      <td>quiz_1_213</td>\n",
       "    </tr>\n",
       "    <tr>\n",
       "      <th>1</th>\n",
       "      <td>original_data/pancreas_validation_preds/quiz_0_174.nii.gz</td>\n",
       "      <td>2</td>\n",
       "      <td>[[0.00951385498046875, 0.22314453125, 0.767578125]]</td>\n",
       "      <td>quiz_0_174</td>\n",
       "    </tr>\n",
       "    <tr>\n",
       "      <th>2</th>\n",
       "      <td>original_data/pancreas_validation_preds/quiz_1_158.nii.gz</td>\n",
       "      <td>1</td>\n",
       "      <td>[[0.0011816024780273438, 0.5205078125, 0.478515625]]</td>\n",
       "      <td>quiz_1_158</td>\n",
       "    </tr>\n",
       "    <tr>\n",
       "      <th>3</th>\n",
       "      <td>original_data/pancreas_validation_preds/quiz_0_189.nii.gz</td>\n",
       "      <td>0</td>\n",
       "      <td>[[0.9169921875, 0.0016565322875976562, 0.08148193359375]]</td>\n",
       "      <td>quiz_0_189</td>\n",
       "    </tr>\n",
       "    <tr>\n",
       "      <th>4</th>\n",
       "      <td>original_data/pancreas_validation_preds/quiz_0_184.nii.gz</td>\n",
       "      <td>0</td>\n",
       "      <td>[[0.6806640625, 0.00827789306640625, 0.31103515625]]</td>\n",
       "      <td>quiz_0_184</td>\n",
       "    </tr>\n",
       "  </tbody>\n",
       "</table>\n",
       "</div>"
      ],
      "text/plain": [
       "                                                        File  Label                                                      Probs     File ID\n",
       "0  original_data/pancreas_validation_preds/quiz_1_213.nii.gz      1  [[0.00011146068572998047, 0.84521484375, 0.154541015625]]  quiz_1_213\n",
       "1  original_data/pancreas_validation_preds/quiz_0_174.nii.gz      2        [[0.00951385498046875, 0.22314453125, 0.767578125]]  quiz_0_174\n",
       "2  original_data/pancreas_validation_preds/quiz_1_158.nii.gz      1       [[0.0011816024780273438, 0.5205078125, 0.478515625]]  quiz_1_158\n",
       "3  original_data/pancreas_validation_preds/quiz_0_189.nii.gz      0  [[0.9169921875, 0.0016565322875976562, 0.08148193359375]]  quiz_0_189\n",
       "4  original_data/pancreas_validation_preds/quiz_0_184.nii.gz      0       [[0.6806640625, 0.00827789306640625, 0.31103515625]]  quiz_0_184"
      ]
     },
     "execution_count": 9,
     "metadata": {},
     "output_type": "execute_result"
    }
   ],
   "source": [
    "val_preds.head()"
   ]
  },
  {
   "cell_type": "code",
   "execution_count": 10,
   "id": "92efebd2-b801-48d0-953c-2eb6da54c1bf",
   "metadata": {},
   "outputs": [],
   "source": [
    "import torch\n",
    "import ast\n",
    "\n",
    "def extract_max_prob(prob_str):\n",
    "    # Convert string to tensor\n",
    "    prob_list = ast.literal_eval(prob_str)[0]\n",
    "    # Return the maximum probability\n",
    "    return max(prob_list)\n",
    "\n",
    "# Apply the function to create a new column\n",
    "val_preds['Max_Prob'] = val_preds['Probs'].apply(extract_max_prob)"
   ]
  },
  {
   "cell_type": "code",
   "execution_count": 11,
   "id": "51f19040-3bb2-4221-9c1c-b042679e3e1f",
   "metadata": {},
   "outputs": [
    {
     "data": {
      "text/html": [
       "<div>\n",
       "<style scoped>\n",
       "    .dataframe tbody tr th:only-of-type {\n",
       "        vertical-align: middle;\n",
       "    }\n",
       "\n",
       "    .dataframe tbody tr th {\n",
       "        vertical-align: top;\n",
       "    }\n",
       "\n",
       "    .dataframe thead th {\n",
       "        text-align: right;\n",
       "    }\n",
       "</style>\n",
       "<table border=\"1\" class=\"dataframe\">\n",
       "  <thead>\n",
       "    <tr style=\"text-align: right;\">\n",
       "      <th></th>\n",
       "      <th>File</th>\n",
       "      <th>Label</th>\n",
       "      <th>Probs</th>\n",
       "      <th>File ID</th>\n",
       "      <th>Max_Prob</th>\n",
       "    </tr>\n",
       "  </thead>\n",
       "  <tbody>\n",
       "    <tr>\n",
       "      <th>0</th>\n",
       "      <td>original_data/pancreas_validation_preds/quiz_1_213.nii.gz</td>\n",
       "      <td>1</td>\n",
       "      <td>[[0.00011146068572998047, 0.84521484375, 0.154541015625]]</td>\n",
       "      <td>quiz_1_213</td>\n",
       "      <td>0.845215</td>\n",
       "    </tr>\n",
       "    <tr>\n",
       "      <th>1</th>\n",
       "      <td>original_data/pancreas_validation_preds/quiz_0_174.nii.gz</td>\n",
       "      <td>2</td>\n",
       "      <td>[[0.00951385498046875, 0.22314453125, 0.767578125]]</td>\n",
       "      <td>quiz_0_174</td>\n",
       "      <td>0.767578</td>\n",
       "    </tr>\n",
       "    <tr>\n",
       "      <th>2</th>\n",
       "      <td>original_data/pancreas_validation_preds/quiz_1_158.nii.gz</td>\n",
       "      <td>1</td>\n",
       "      <td>[[0.0011816024780273438, 0.5205078125, 0.478515625]]</td>\n",
       "      <td>quiz_1_158</td>\n",
       "      <td>0.520508</td>\n",
       "    </tr>\n",
       "    <tr>\n",
       "      <th>3</th>\n",
       "      <td>original_data/pancreas_validation_preds/quiz_0_189.nii.gz</td>\n",
       "      <td>0</td>\n",
       "      <td>[[0.9169921875, 0.0016565322875976562, 0.08148193359375]]</td>\n",
       "      <td>quiz_0_189</td>\n",
       "      <td>0.916992</td>\n",
       "    </tr>\n",
       "    <tr>\n",
       "      <th>4</th>\n",
       "      <td>original_data/pancreas_validation_preds/quiz_0_184.nii.gz</td>\n",
       "      <td>0</td>\n",
       "      <td>[[0.6806640625, 0.00827789306640625, 0.31103515625]]</td>\n",
       "      <td>quiz_0_184</td>\n",
       "      <td>0.680664</td>\n",
       "    </tr>\n",
       "  </tbody>\n",
       "</table>\n",
       "</div>"
      ],
      "text/plain": [
       "                                                        File  Label                                                      Probs     File ID  Max_Prob\n",
       "0  original_data/pancreas_validation_preds/quiz_1_213.nii.gz      1  [[0.00011146068572998047, 0.84521484375, 0.154541015625]]  quiz_1_213  0.845215\n",
       "1  original_data/pancreas_validation_preds/quiz_0_174.nii.gz      2        [[0.00951385498046875, 0.22314453125, 0.767578125]]  quiz_0_174  0.767578\n",
       "2  original_data/pancreas_validation_preds/quiz_1_158.nii.gz      1       [[0.0011816024780273438, 0.5205078125, 0.478515625]]  quiz_1_158  0.520508\n",
       "3  original_data/pancreas_validation_preds/quiz_0_189.nii.gz      0  [[0.9169921875, 0.0016565322875976562, 0.08148193359375]]  quiz_0_189  0.916992\n",
       "4  original_data/pancreas_validation_preds/quiz_0_184.nii.gz      0       [[0.6806640625, 0.00827789306640625, 0.31103515625]]  quiz_0_184  0.680664"
      ]
     },
     "execution_count": 11,
     "metadata": {},
     "output_type": "execute_result"
    }
   ],
   "source": [
    "val_preds.head()"
   ]
  },
  {
   "cell_type": "code",
   "execution_count": 12,
   "id": "8ff1cabd-761d-4f5a-9367-5e289b1a3aa4",
   "metadata": {},
   "outputs": [
    {
     "name": "stdout",
     "output_type": "stream",
     "text": [
      "Percentage of overlapping class labels: 75.00%\n",
      "Matching samples: 27\n",
      "Total samples: 36\n"
     ]
    }
   ],
   "source": [
    "df_val_subset = df_val[['File ID', 'Class Label']]\n",
    "val_preds_subset = val_preds[['File ID', 'Label', 'Max_Prob']]\n",
    "\n",
    "merged_df = df_val_subset.merge(val_preds_subset, on='File ID', how='inner')\n",
    "\n",
    "merged_df['Match'] = merged_df['Class Label'] == merged_df['Label']\n",
    "\n",
    "total_samples = len(merged_df)\n",
    "matching_samples = merged_df['Match'].sum()\n",
    "overlap_percentage = (matching_samples / total_samples) * 100\n",
    "\n",
    "print(f\"Percentage of overlapping class labels: {overlap_percentage:.2f}%\")\n",
    "print(f\"Matching samples: {matching_samples}\")\n",
    "print(f\"Total samples: {total_samples}\")"
   ]
  },
  {
   "cell_type": "code",
   "execution_count": 13,
   "id": "3de6d3a5-4420-4174-92d1-3ee5cc92da28",
   "metadata": {},
   "outputs": [
    {
     "data": {
      "text/html": [
       "<div>\n",
       "<style scoped>\n",
       "    .dataframe tbody tr th:only-of-type {\n",
       "        vertical-align: middle;\n",
       "    }\n",
       "\n",
       "    .dataframe tbody tr th {\n",
       "        vertical-align: top;\n",
       "    }\n",
       "\n",
       "    .dataframe thead th {\n",
       "        text-align: right;\n",
       "    }\n",
       "</style>\n",
       "<table border=\"1\" class=\"dataframe\">\n",
       "  <thead>\n",
       "    <tr style=\"text-align: right;\">\n",
       "      <th></th>\n",
       "      <th>File ID</th>\n",
       "      <th>Class Label</th>\n",
       "      <th>Label</th>\n",
       "      <th>Max_Prob</th>\n",
       "      <th>Match</th>\n",
       "    </tr>\n",
       "  </thead>\n",
       "  <tbody>\n",
       "    <tr>\n",
       "      <th>0</th>\n",
       "      <td>quiz_2_191</td>\n",
       "      <td>2.0</td>\n",
       "      <td>2</td>\n",
       "      <td>0.843750</td>\n",
       "      <td>True</td>\n",
       "    </tr>\n",
       "    <tr>\n",
       "      <th>1</th>\n",
       "      <td>quiz_2_241</td>\n",
       "      <td>2.0</td>\n",
       "      <td>2</td>\n",
       "      <td>0.822266</td>\n",
       "      <td>True</td>\n",
       "    </tr>\n",
       "    <tr>\n",
       "      <th>2</th>\n",
       "      <td>quiz_2_084</td>\n",
       "      <td>2.0</td>\n",
       "      <td>1</td>\n",
       "      <td>0.811523</td>\n",
       "      <td>False</td>\n",
       "    </tr>\n",
       "    <tr>\n",
       "      <th>3</th>\n",
       "      <td>quiz_2_377</td>\n",
       "      <td>2.0</td>\n",
       "      <td>2</td>\n",
       "      <td>0.532715</td>\n",
       "      <td>True</td>\n",
       "    </tr>\n",
       "    <tr>\n",
       "      <th>4</th>\n",
       "      <td>quiz_2_098</td>\n",
       "      <td>2.0</td>\n",
       "      <td>2</td>\n",
       "      <td>0.858398</td>\n",
       "      <td>True</td>\n",
       "    </tr>\n",
       "  </tbody>\n",
       "</table>\n",
       "</div>"
      ],
      "text/plain": [
       "      File ID  Class Label  Label  Max_Prob  Match\n",
       "0  quiz_2_191          2.0      2  0.843750   True\n",
       "1  quiz_2_241          2.0      2  0.822266   True\n",
       "2  quiz_2_084          2.0      1  0.811523  False\n",
       "3  quiz_2_377          2.0      2  0.532715   True\n",
       "4  quiz_2_098          2.0      2  0.858398   True"
      ]
     },
     "execution_count": 13,
     "metadata": {},
     "output_type": "execute_result"
    }
   ],
   "source": [
    "merged_df.head()"
   ]
  },
  {
   "cell_type": "code",
   "execution_count": 14,
   "id": "a2543c2b-9c44-4ea6-951f-0fb54e4105d6",
   "metadata": {},
   "outputs": [],
   "source": [
    "true_labels = merged_df['Class Label'].values"
   ]
  },
  {
   "cell_type": "code",
   "execution_count": 15,
   "id": "fcd4ce68-3cfb-4a87-ae6f-134cc2442893",
   "metadata": {},
   "outputs": [],
   "source": [
    "pred_labels = merged_df['Label'].values"
   ]
  },
  {
   "cell_type": "code",
   "execution_count": 16,
   "id": "d75a5faf-1645-4634-96f6-caabead40d8d",
   "metadata": {},
   "outputs": [],
   "source": [
    "pred_probs = merged_df['Max_Prob'].values"
   ]
  },
  {
   "cell_type": "code",
   "execution_count": 17,
   "id": "120a63c4-0869-430a-a11a-9d2a7046ea07",
   "metadata": {},
   "outputs": [],
   "source": [
    "from MetricsReloaded.metrics.pairwise_measures import BinaryPairwiseMeasures as BPM\n",
    "from MetricsReloaded.metrics.prob_pairwise_measures import ProbabilityPairwiseMeasures as PPM\n",
    "from MetricsReloaded.processes.mixed_measures_processes import MultiLabelPairwiseMeasures as MLPM\n",
    "from MetricsReloaded.processes.overall_process import ProcessEvaluation as PE\n",
    "import numpy as np\n",
    "from matplotlib import pyplot as plt"
   ]
  },
  {
   "cell_type": "code",
   "execution_count": 18,
   "id": "cf6a922b-17c9-4515-b31d-63cf6943b640",
   "metadata": {},
   "outputs": [
    {
     "name": "stdout",
     "output_type": "stream",
     "text": [
      "Creation of dictionary for one single comparison case with two metrics\n",
      "{'fbeta': 0.8656716579104562, 'mcc': 0.46964663}\n"
     ]
    }
   ],
   "source": [
    "print('Creation of dictionary for one single comparison case with two metrics')\n",
    "bpm = BPM(pred_labels, true_labels, measures=['fbeta','mcc'])\n",
    "dict_seg = bpm.to_dict_meas()\n",
    "print(dict_seg)"
   ]
  },
  {
   "cell_type": "code",
   "execution_count": 19,
   "id": "f1dbe9f5-54a0-431e-8388-c9343ad69be1",
   "metadata": {},
   "outputs": [
    {
     "name": "stdout",
     "output_type": "stream",
     "text": [
      "Creation of multi process with error in choice of measure due to absence of probabilistic input\n",
      "1  is treated label\n",
      "      fbeta       mcc  label  case\n",
      "0  0.758621  0.597148      1     0\n"
     ]
    },
    {
     "name": "stderr",
     "output_type": "stream",
     "text": [
      "/scratch/alif/MetricsReloaded/MetricsReloaded/metrics/prob_pairwise_measures.py:190: RuntimeWarning: invalid value encountered in scalar divide\n",
      "  return self.tp_thr(thresh) / (self.tp_thr(thresh) + self.fp_thr(thresh))\n"
     ]
    }
   ],
   "source": [
    "print(\"Creation of multi process with error in choice of measure due to absence of probabilistic input\")\n",
    "mlpm = MLPM([pred_labels], [true_labels],[pred_probs],list_values=[1],measures_pcc=['fbeta','mcc'],measures_mt=['auroc'],per_case=True)\n",
    "df_seg, df_mt = mlpm.per_label_dict()\n",
    "print(df_seg)"
   ]
  },
  {
   "cell_type": "code",
   "execution_count": 20,
   "id": "0da22cfd-5ee7-417b-a694-56cb69c275ab",
   "metadata": {},
   "outputs": [
    {
     "name": "stdout",
     "output_type": "stream",
     "text": [
      "Creation of full process\n",
      "1  is treated label\n",
      "list fin is  [      fbeta       mcc  label  case\n",
      "0  0.758621  0.597148      1     0,    auroc  label  case\n",
      "0    0.5      1     0]\n",
      "list fin is  [      fbeta       mcc  label  case\n",
      "0  0.758621  0.597148      1     0,    auroc  label  case\n",
      "0    0.5      1     0]\n"
     ]
    },
    {
     "name": "stderr",
     "output_type": "stream",
     "text": [
      "/scratch/alif/MetricsReloaded/MetricsReloaded/metrics/prob_pairwise_measures.py:190: RuntimeWarning: invalid value encountered in scalar divide\n",
      "  return self.tp_thr(thresh) / (self.tp_thr(thresh) + self.fp_thr(thresh))\n"
     ]
    }
   ],
   "source": [
    "print(\"Creation of full process\")\n",
    "data = {}\n",
    "data['pred_class'] = [pred_labels]\n",
    "data['ref_class'] = [true_labels]\n",
    "data['pred_prob'] = [pred_probs]\n",
    "data['list_values'] = [1]\n",
    "pe = PE(data, 'ImLC',measures_overlap=['fbeta','mcc'],measures_mt=['auroc'],case=True)"
   ]
  }
 ],
 "metadata": {
  "kernelspec": {
   "display_name": "Python 3.10.13",
   "language": "python",
   "name": "py310-13"
  },
  "language_info": {
   "codemirror_mode": {
    "name": "ipython",
    "version": 3
   },
   "file_extension": ".py",
   "mimetype": "text/x-python",
   "name": "python",
   "nbconvert_exporter": "python",
   "pygments_lexer": "ipython3",
   "version": "3.10.13"
  }
 },
 "nbformat": 4,
 "nbformat_minor": 5
}
