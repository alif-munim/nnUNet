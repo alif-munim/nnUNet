{
 "cells": [
  {
   "cell_type": "markdown",
   "id": "f9cb91ae-6802-4390-b1a4-c159ac059b01",
   "metadata": {},
   "source": [
    "### Evaluation"
   ]
  },
  {
   "cell_type": "code",
   "execution_count": 85,
   "id": "24e2d584-8aeb-4566-840e-3d8866160388",
   "metadata": {},
   "outputs": [],
   "source": [
    "import json\n",
    "\n",
    "# Define the path to the JSON file\n",
    "json_file_path = 'nnUNet_raw_data_base/nnUNet_raw_data/Task006_PancreasUHN/file_mapping.json'\n",
    "\n",
    "# Open the JSON file and load it into a dictionary\n",
    "with open(json_file_path, 'r') as f:\n",
    "    file_mapping = json.load(f)"
   ]
  },
  {
   "cell_type": "code",
   "execution_count": 86,
   "id": "947d9fee-fad7-4a0e-b379-fb6e1a6ff52a",
   "metadata": {},
   "outputs": [],
   "source": [
    "import pandas as pd\n",
    "\n",
    "# Set maximum number of rows to display\n",
    "pd.set_option('display.max_rows', None)\n",
    "\n",
    "# Set maximum number of columns to display\n",
    "pd.set_option('display.max_columns', None)\n",
    "\n",
    "# Set maximum display width\n",
    "pd.set_option('display.width', 1000)\n",
    "\n",
    "# Set maximum number of columns to display\n",
    "pd.set_option('display.max_columns', None)\n",
    "\n",
    "# Set maximum column width\n",
    "pd.set_option('display.max_colwidth', None)\n",
    "\n",
    "df = pd.DataFrame.from_dict(file_mapping, orient='index', columns=['Renamed Path'])\n",
    "\n",
    "# Rename the index to 'Original Path'\n",
    "df.index.name = 'Original Path'\n",
    "\n",
    "# Reset the index to make 'Original Path' a column\n",
    "df.reset_index(inplace=True)"
   ]
  },
  {
   "cell_type": "code",
   "execution_count": 87,
   "id": "503b805b-121f-4b50-8ffe-82fa935f5027",
   "metadata": {},
   "outputs": [
    {
     "data": {
      "text/html": [
       "<div>\n",
       "<style scoped>\n",
       "    .dataframe tbody tr th:only-of-type {\n",
       "        vertical-align: middle;\n",
       "    }\n",
       "\n",
       "    .dataframe tbody tr th {\n",
       "        vertical-align: top;\n",
       "    }\n",
       "\n",
       "    .dataframe thead th {\n",
       "        text-align: right;\n",
       "    }\n",
       "</style>\n",
       "<table border=\"1\" class=\"dataframe\">\n",
       "  <thead>\n",
       "    <tr style=\"text-align: right;\">\n",
       "      <th></th>\n",
       "      <th>Original Path</th>\n",
       "      <th>Renamed Path</th>\n",
       "    </tr>\n",
       "  </thead>\n",
       "  <tbody>\n",
       "    <tr>\n",
       "      <th>0</th>\n",
       "      <td>original_data/UHN-MedImg3D-ML-quiz/train/subtype2/quiz_2_416_0000.nii.gz</td>\n",
       "      <td>original_data/Task006_PancreasUHN/imagesTr/case_001</td>\n",
       "    </tr>\n",
       "    <tr>\n",
       "      <th>1</th>\n",
       "      <td>original_data/UHN-MedImg3D-ML-quiz/train/subtype2/quiz_2_040_0000.nii.gz</td>\n",
       "      <td>original_data/Task006_PancreasUHN/imagesTr/case_002</td>\n",
       "    </tr>\n",
       "    <tr>\n",
       "      <th>2</th>\n",
       "      <td>original_data/UHN-MedImg3D-ML-quiz/train/subtype2/quiz_2_493_0000.nii.gz</td>\n",
       "      <td>original_data/Task006_PancreasUHN/imagesTr/case_003</td>\n",
       "    </tr>\n",
       "    <tr>\n",
       "      <th>3</th>\n",
       "      <td>original_data/UHN-MedImg3D-ML-quiz/train/subtype2/quiz_2_321_0000.nii.gz</td>\n",
       "      <td>original_data/Task006_PancreasUHN/imagesTr/case_004</td>\n",
       "    </tr>\n",
       "    <tr>\n",
       "      <th>4</th>\n",
       "      <td>original_data/UHN-MedImg3D-ML-quiz/train/subtype2/quiz_2_002_0000.nii.gz</td>\n",
       "      <td>original_data/Task006_PancreasUHN/imagesTr/case_005</td>\n",
       "    </tr>\n",
       "  </tbody>\n",
       "</table>\n",
       "</div>"
      ],
      "text/plain": [
       "                                                              Original Path                                         Renamed Path\n",
       "0  original_data/UHN-MedImg3D-ML-quiz/train/subtype2/quiz_2_416_0000.nii.gz  original_data/Task006_PancreasUHN/imagesTr/case_001\n",
       "1  original_data/UHN-MedImg3D-ML-quiz/train/subtype2/quiz_2_040_0000.nii.gz  original_data/Task006_PancreasUHN/imagesTr/case_002\n",
       "2  original_data/UHN-MedImg3D-ML-quiz/train/subtype2/quiz_2_493_0000.nii.gz  original_data/Task006_PancreasUHN/imagesTr/case_003\n",
       "3  original_data/UHN-MedImg3D-ML-quiz/train/subtype2/quiz_2_321_0000.nii.gz  original_data/Task006_PancreasUHN/imagesTr/case_004\n",
       "4  original_data/UHN-MedImg3D-ML-quiz/train/subtype2/quiz_2_002_0000.nii.gz  original_data/Task006_PancreasUHN/imagesTr/case_005"
      ]
     },
     "execution_count": 87,
     "metadata": {},
     "output_type": "execute_result"
    }
   ],
   "source": [
    "df.head()"
   ]
  },
  {
   "cell_type": "code",
   "execution_count": 88,
   "id": "f0032dd1-881c-4e07-921e-b6b798b96dfe",
   "metadata": {},
   "outputs": [],
   "source": [
    "df = pd.read_csv('nnUNet_raw_data_base/nnUNet_raw_data/Task006_PancreasUHN/class_mapping.csv')"
   ]
  },
  {
   "cell_type": "code",
   "execution_count": 89,
   "id": "ea18ccb0-a082-492d-a478-319da15db2d2",
   "metadata": {},
   "outputs": [],
   "source": [
    "df_train = df[df['Original Path'].str.contains('train')]\n",
    "df_test = df[df['Original Path'].str.contains('test')]\n",
    "df_val = df[df['Original Path'].str.contains('validation')]"
   ]
  },
  {
   "cell_type": "code",
   "execution_count": 90,
   "id": "71a71ac6-118d-4666-9565-674f23048209",
   "metadata": {},
   "outputs": [
    {
     "name": "stderr",
     "output_type": "stream",
     "text": [
      "/tmp/ipykernel_1084249/848698125.py:1: SettingWithCopyWarning: \n",
      "A value is trying to be set on a copy of a slice from a DataFrame.\n",
      "Try using .loc[row_indexer,col_indexer] = value instead\n",
      "\n",
      "See the caveats in the documentation: https://pandas.pydata.org/pandas-docs/stable/user_guide/indexing.html#returning-a-view-versus-a-copy\n",
      "  df_val['File ID'] = df_val['Original Path'].str.split('/').str[-1].str.replace('_0000.nii.gz', '')\n"
     ]
    }
   ],
   "source": [
    "df_val['File ID'] = df_val['Original Path'].str.split('/').str[-1].str.replace('_0000.nii.gz', '')"
   ]
  },
  {
   "cell_type": "markdown",
   "id": "54d2f691-1463-4d32-8065-f1aee07bdf65",
   "metadata": {},
   "source": [
    "### Read Test"
   ]
  },
  {
   "cell_type": "code",
   "execution_count": 183,
   "id": "0ce8460b-09b0-4f4f-9d08-5de74c617dc2",
   "metadata": {},
   "outputs": [],
   "source": [
    "test_preds = pd.read_csv('/scratch/alif/nnUNet/original_data/pancreas_test_labels/predictions.csv')"
   ]
  },
  {
   "cell_type": "code",
   "execution_count": 186,
   "id": "d886fe12-dae7-4db8-a3bd-4fa6e3f99d39",
   "metadata": {},
   "outputs": [
    {
     "data": {
      "text/html": [
       "<div>\n",
       "<style scoped>\n",
       "    .dataframe tbody tr th:only-of-type {\n",
       "        vertical-align: middle;\n",
       "    }\n",
       "\n",
       "    .dataframe tbody tr th {\n",
       "        vertical-align: top;\n",
       "    }\n",
       "\n",
       "    .dataframe thead th {\n",
       "        text-align: right;\n",
       "    }\n",
       "</style>\n",
       "<table border=\"1\" class=\"dataframe\">\n",
       "  <thead>\n",
       "    <tr style=\"text-align: right;\">\n",
       "      <th></th>\n",
       "      <th>File</th>\n",
       "      <th>Label</th>\n",
       "      <th>Probs</th>\n",
       "      <th>Names</th>\n",
       "    </tr>\n",
       "  </thead>\n",
       "  <tbody>\n",
       "    <tr>\n",
       "      <th>0</th>\n",
       "      <td>original_data/pancreas_test_labels/quiz_045.nii.gz</td>\n",
       "      <td>2</td>\n",
       "      <td>[[0.012847900390625, 0.143310546875, 0.84375]]</td>\n",
       "      <td>quiz_045.nii.gz</td>\n",
       "    </tr>\n",
       "    <tr>\n",
       "      <th>1</th>\n",
       "      <td>original_data/pancreas_test_labels/quiz_048.nii.gz</td>\n",
       "      <td>1</td>\n",
       "      <td>[[5.5789947509765625e-05, 0.91748046875, 0.08270263671875]]</td>\n",
       "      <td>quiz_048.nii.gz</td>\n",
       "    </tr>\n",
       "    <tr>\n",
       "      <th>2</th>\n",
       "      <td>original_data/pancreas_test_labels/quiz_130.nii.gz</td>\n",
       "      <td>2</td>\n",
       "      <td>[[0.403076171875, 0.01290130615234375, 0.583984375]]</td>\n",
       "      <td>quiz_130.nii.gz</td>\n",
       "    </tr>\n",
       "    <tr>\n",
       "      <th>3</th>\n",
       "      <td>original_data/pancreas_test_labels/quiz_095.nii.gz</td>\n",
       "      <td>2</td>\n",
       "      <td>[[0.0074462890625, 0.19970703125, 0.79296875]]</td>\n",
       "      <td>quiz_095.nii.gz</td>\n",
       "    </tr>\n",
       "    <tr>\n",
       "      <th>4</th>\n",
       "      <td>original_data/pancreas_test_labels/quiz_068.nii.gz</td>\n",
       "      <td>1</td>\n",
       "      <td>[[9.083747863769531e-05, 0.880859375, 0.11920166015625]]</td>\n",
       "      <td>quiz_068.nii.gz</td>\n",
       "    </tr>\n",
       "    <tr>\n",
       "      <th>5</th>\n",
       "      <td>original_data/pancreas_test_labels/quiz_135.nii.gz</td>\n",
       "      <td>2</td>\n",
       "      <td>[[0.02935791015625, 0.081787109375, 0.888671875]]</td>\n",
       "      <td>quiz_135.nii.gz</td>\n",
       "    </tr>\n",
       "    <tr>\n",
       "      <th>6</th>\n",
       "      <td>original_data/pancreas_test_labels/quiz_097.nii.gz</td>\n",
       "      <td>2</td>\n",
       "      <td>[[0.44384765625, 0.01128387451171875, 0.544921875]]</td>\n",
       "      <td>quiz_097.nii.gz</td>\n",
       "    </tr>\n",
       "    <tr>\n",
       "      <th>7</th>\n",
       "      <td>original_data/pancreas_test_labels/quiz_129.nii.gz</td>\n",
       "      <td>0</td>\n",
       "      <td>[[0.90966796875, 0.0012159347534179688, 0.08929443359375]]</td>\n",
       "      <td>quiz_129.nii.gz</td>\n",
       "    </tr>\n",
       "    <tr>\n",
       "      <th>8</th>\n",
       "      <td>original_data/pancreas_test_labels/quiz_108.nii.gz</td>\n",
       "      <td>2</td>\n",
       "      <td>[[0.10455322265625, 0.036407470703125, 0.85888671875]]</td>\n",
       "      <td>quiz_108.nii.gz</td>\n",
       "    </tr>\n",
       "    <tr>\n",
       "      <th>9</th>\n",
       "      <td>original_data/pancreas_test_labels/quiz_052.nii.gz</td>\n",
       "      <td>2</td>\n",
       "      <td>[[0.0216217041015625, 0.09912109375, 0.87939453125]]</td>\n",
       "      <td>quiz_052.nii.gz</td>\n",
       "    </tr>\n",
       "    <tr>\n",
       "      <th>10</th>\n",
       "      <td>original_data/pancreas_test_labels/quiz_053.nii.gz</td>\n",
       "      <td>1</td>\n",
       "      <td>[[5.179643630981445e-05, 0.923828125, 0.0760498046875]]</td>\n",
       "      <td>quiz_053.nii.gz</td>\n",
       "    </tr>\n",
       "    <tr>\n",
       "      <th>11</th>\n",
       "      <td>original_data/pancreas_test_labels/quiz_144.nii.gz</td>\n",
       "      <td>2</td>\n",
       "      <td>[[0.0165863037109375, 0.117919921875, 0.86572265625]]</td>\n",
       "      <td>quiz_144.nii.gz</td>\n",
       "    </tr>\n",
       "    <tr>\n",
       "      <th>12</th>\n",
       "      <td>original_data/pancreas_test_labels/quiz_233.nii.gz</td>\n",
       "      <td>1</td>\n",
       "      <td>[[0.00023937225341796875, 0.77734375, 0.2222900390625]]</td>\n",
       "      <td>quiz_233.nii.gz</td>\n",
       "    </tr>\n",
       "    <tr>\n",
       "      <th>13</th>\n",
       "      <td>original_data/pancreas_test_labels/quiz_157.nii.gz</td>\n",
       "      <td>2</td>\n",
       "      <td>[[0.109619140625, 0.035675048828125, 0.8544921875]]</td>\n",
       "      <td>quiz_157.nii.gz</td>\n",
       "    </tr>\n",
       "    <tr>\n",
       "      <th>14</th>\n",
       "      <td>original_data/pancreas_test_labels/quiz_101.nii.gz</td>\n",
       "      <td>2</td>\n",
       "      <td>[[0.0718994140625, 0.045654296875, 0.88232421875]]</td>\n",
       "      <td>quiz_101.nii.gz</td>\n",
       "    </tr>\n",
       "    <tr>\n",
       "      <th>15</th>\n",
       "      <td>original_data/pancreas_test_labels/quiz_146.nii.gz</td>\n",
       "      <td>2</td>\n",
       "      <td>[[0.25341796875, 0.0199737548828125, 0.7265625]]</td>\n",
       "      <td>quiz_146.nii.gz</td>\n",
       "    </tr>\n",
       "    <tr>\n",
       "      <th>16</th>\n",
       "      <td>original_data/pancreas_test_labels/quiz_056.nii.gz</td>\n",
       "      <td>1</td>\n",
       "      <td>[[0.00021648406982421875, 0.78759765625, 0.21240234375]]</td>\n",
       "      <td>quiz_056.nii.gz</td>\n",
       "    </tr>\n",
       "    <tr>\n",
       "      <th>17</th>\n",
       "      <td>original_data/pancreas_test_labels/quiz_152.nii.gz</td>\n",
       "      <td>2</td>\n",
       "      <td>[[0.05517578125, 0.05279541015625, 0.89208984375]]</td>\n",
       "      <td>quiz_152.nii.gz</td>\n",
       "    </tr>\n",
       "    <tr>\n",
       "      <th>18</th>\n",
       "      <td>original_data/pancreas_test_labels/quiz_137.nii.gz</td>\n",
       "      <td>0</td>\n",
       "      <td>[[0.86572265625, 0.0017652511596679688, 0.13232421875]]</td>\n",
       "      <td>quiz_137.nii.gz</td>\n",
       "    </tr>\n",
       "    <tr>\n",
       "      <th>19</th>\n",
       "      <td>original_data/pancreas_test_labels/quiz_155.nii.gz</td>\n",
       "      <td>1</td>\n",
       "      <td>[[0.00011819601058959961, 0.85546875, 0.14453125]]</td>\n",
       "      <td>quiz_155.nii.gz</td>\n",
       "    </tr>\n",
       "    <tr>\n",
       "      <th>20</th>\n",
       "      <td>original_data/pancreas_test_labels/quiz_257.nii.gz</td>\n",
       "      <td>2</td>\n",
       "      <td>[[0.312744140625, 0.0166473388671875, 0.6708984375]]</td>\n",
       "      <td>quiz_257.nii.gz</td>\n",
       "    </tr>\n",
       "    <tr>\n",
       "      <th>21</th>\n",
       "      <td>original_data/pancreas_test_labels/quiz_069.nii.gz</td>\n",
       "      <td>1</td>\n",
       "      <td>[[4.8220157623291016e-05, 0.9296875, 0.07012939453125]]</td>\n",
       "      <td>quiz_069.nii.gz</td>\n",
       "    </tr>\n",
       "    <tr>\n",
       "      <th>22</th>\n",
       "      <td>original_data/pancreas_test_labels/quiz_141.nii.gz</td>\n",
       "      <td>2</td>\n",
       "      <td>[[0.03570556640625, 0.07025146484375, 0.89404296875]]</td>\n",
       "      <td>quiz_141.nii.gz</td>\n",
       "    </tr>\n",
       "    <tr>\n",
       "      <th>23</th>\n",
       "      <td>original_data/pancreas_test_labels/quiz_037.nii.gz</td>\n",
       "      <td>1</td>\n",
       "      <td>[[0.00021386146545410156, 0.794921875, 0.2049560546875]]</td>\n",
       "      <td>quiz_037.nii.gz</td>\n",
       "    </tr>\n",
       "    <tr>\n",
       "      <th>24</th>\n",
       "      <td>original_data/pancreas_test_labels/quiz_047.nii.gz</td>\n",
       "      <td>1</td>\n",
       "      <td>[[8.565187454223633e-05, 0.88427734375, 0.11553955078125]]</td>\n",
       "      <td>quiz_047.nii.gz</td>\n",
       "    </tr>\n",
       "    <tr>\n",
       "      <th>25</th>\n",
       "      <td>original_data/pancreas_test_labels/quiz_161.nii.gz</td>\n",
       "      <td>1</td>\n",
       "      <td>[[5.161762237548828e-05, 0.92431640625, 0.0758056640625]]</td>\n",
       "      <td>quiz_161.nii.gz</td>\n",
       "    </tr>\n",
       "    <tr>\n",
       "      <th>26</th>\n",
       "      <td>original_data/pancreas_test_labels/quiz_226.nii.gz</td>\n",
       "      <td>2</td>\n",
       "      <td>[[0.01531982421875, 0.125, 0.85986328125]]</td>\n",
       "      <td>quiz_226.nii.gz</td>\n",
       "    </tr>\n",
       "    <tr>\n",
       "      <th>27</th>\n",
       "      <td>original_data/pancreas_test_labels/quiz_228.nii.gz</td>\n",
       "      <td>1</td>\n",
       "      <td>[[0.0009584426879882812, 0.54443359375, 0.454833984375]]</td>\n",
       "      <td>quiz_228.nii.gz</td>\n",
       "    </tr>\n",
       "    <tr>\n",
       "      <th>28</th>\n",
       "      <td>original_data/pancreas_test_labels/quiz_162.nii.gz</td>\n",
       "      <td>2</td>\n",
       "      <td>[[0.038482666015625, 0.06732177734375, 0.89404296875]]</td>\n",
       "      <td>quiz_162.nii.gz</td>\n",
       "    </tr>\n",
       "    <tr>\n",
       "      <th>29</th>\n",
       "      <td>original_data/pancreas_test_labels/quiz_092.nii.gz</td>\n",
       "      <td>0</td>\n",
       "      <td>[[0.71826171875, 0.00421142578125, 0.277587890625]]</td>\n",
       "      <td>quiz_092.nii.gz</td>\n",
       "    </tr>\n",
       "    <tr>\n",
       "      <th>30</th>\n",
       "      <td>original_data/pancreas_test_labels/quiz_349.nii.gz</td>\n",
       "      <td>1</td>\n",
       "      <td>[[0.00016319751739501953, 0.82275390625, 0.17724609375]]</td>\n",
       "      <td>quiz_349.nii.gz</td>\n",
       "    </tr>\n",
       "    <tr>\n",
       "      <th>31</th>\n",
       "      <td>original_data/pancreas_test_labels/quiz_271.nii.gz</td>\n",
       "      <td>2</td>\n",
       "      <td>[[0.0015926361083984375, 0.458251953125, 0.5400390625]]</td>\n",
       "      <td>quiz_271.nii.gz</td>\n",
       "    </tr>\n",
       "    <tr>\n",
       "      <th>32</th>\n",
       "      <td>original_data/pancreas_test_labels/quiz_267.nii.gz</td>\n",
       "      <td>2</td>\n",
       "      <td>[[0.001667022705078125, 0.4462890625, 0.55224609375]]</td>\n",
       "      <td>quiz_267.nii.gz</td>\n",
       "    </tr>\n",
       "    <tr>\n",
       "      <th>33</th>\n",
       "      <td>original_data/pancreas_test_labels/quiz_351.nii.gz</td>\n",
       "      <td>1</td>\n",
       "      <td>[[4.839897155761719e-05, 0.9296875, 0.07049560546875]]</td>\n",
       "      <td>quiz_351.nii.gz</td>\n",
       "    </tr>\n",
       "    <tr>\n",
       "      <th>34</th>\n",
       "      <td>original_data/pancreas_test_labels/quiz_275.nii.gz</td>\n",
       "      <td>0</td>\n",
       "      <td>[[0.93505859375, 0.0009679794311523438, 0.0640869140625]]</td>\n",
       "      <td>quiz_275.nii.gz</td>\n",
       "    </tr>\n",
       "    <tr>\n",
       "      <th>35</th>\n",
       "      <td>original_data/pancreas_test_labels/quiz_347.nii.gz</td>\n",
       "      <td>2</td>\n",
       "      <td>[[0.0120086669921875, 0.14599609375, 0.841796875]]</td>\n",
       "      <td>quiz_347.nii.gz</td>\n",
       "    </tr>\n",
       "    <tr>\n",
       "      <th>36</th>\n",
       "      <td>original_data/pancreas_test_labels/quiz_282.nii.gz</td>\n",
       "      <td>0</td>\n",
       "      <td>[[0.572265625, 0.007549285888671875, 0.420166015625]]</td>\n",
       "      <td>quiz_282.nii.gz</td>\n",
       "    </tr>\n",
       "    <tr>\n",
       "      <th>37</th>\n",
       "      <td>original_data/pancreas_test_labels/quiz_263.nii.gz</td>\n",
       "      <td>2</td>\n",
       "      <td>[[0.01702880859375, 0.116455078125, 0.86669921875]]</td>\n",
       "      <td>quiz_263.nii.gz</td>\n",
       "    </tr>\n",
       "    <tr>\n",
       "      <th>38</th>\n",
       "      <td>original_data/pancreas_test_labels/quiz_261.nii.gz</td>\n",
       "      <td>1</td>\n",
       "      <td>[[0.00011658668518066406, 0.8583984375, 0.1414794921875]]</td>\n",
       "      <td>quiz_261.nii.gz</td>\n",
       "    </tr>\n",
       "    <tr>\n",
       "      <th>39</th>\n",
       "      <td>original_data/pancreas_test_labels/quiz_361.nii.gz</td>\n",
       "      <td>1</td>\n",
       "      <td>[[8.20159912109375e-05, 0.88916015625, 0.1109619140625]]</td>\n",
       "      <td>quiz_361.nii.gz</td>\n",
       "    </tr>\n",
       "    <tr>\n",
       "      <th>40</th>\n",
       "      <td>original_data/pancreas_test_labels/quiz_405.nii.gz</td>\n",
       "      <td>2</td>\n",
       "      <td>[[0.045318603515625, 0.060516357421875, 0.89404296875]]</td>\n",
       "      <td>quiz_405.nii.gz</td>\n",
       "    </tr>\n",
       "    <tr>\n",
       "      <th>41</th>\n",
       "      <td>original_data/pancreas_test_labels/quiz_367.nii.gz</td>\n",
       "      <td>1</td>\n",
       "      <td>[[4.875659942626953e-05, 0.92919921875, 0.07073974609375]]</td>\n",
       "      <td>quiz_367.nii.gz</td>\n",
       "    </tr>\n",
       "    <tr>\n",
       "      <th>42</th>\n",
       "      <td>original_data/pancreas_test_labels/quiz_373.nii.gz</td>\n",
       "      <td>1</td>\n",
       "      <td>[[4.750490188598633e-05, 0.93115234375, 0.06890869140625]]</td>\n",
       "      <td>quiz_373.nii.gz</td>\n",
       "    </tr>\n",
       "    <tr>\n",
       "      <th>43</th>\n",
       "      <td>original_data/pancreas_test_labels/quiz_266.nii.gz</td>\n",
       "      <td>1</td>\n",
       "      <td>[[0.0003426074981689453, 0.7294921875, 0.27001953125]]</td>\n",
       "      <td>quiz_266.nii.gz</td>\n",
       "    </tr>\n",
       "    <tr>\n",
       "      <th>44</th>\n",
       "      <td>original_data/pancreas_test_labels/quiz_280.nii.gz</td>\n",
       "      <td>0</td>\n",
       "      <td>[[0.85302734375, 0.0019330978393554688, 0.14501953125]]</td>\n",
       "      <td>quiz_280.nii.gz</td>\n",
       "    </tr>\n",
       "    <tr>\n",
       "      <th>45</th>\n",
       "      <td>original_data/pancreas_test_labels/quiz_371.nii.gz</td>\n",
       "      <td>2</td>\n",
       "      <td>[[0.001277923583984375, 0.498779296875, 0.499755859375]]</td>\n",
       "      <td>quiz_371.nii.gz</td>\n",
       "    </tr>\n",
       "    <tr>\n",
       "      <th>46</th>\n",
       "      <td>original_data/pancreas_test_labels/quiz_369.nii.gz</td>\n",
       "      <td>2</td>\n",
       "      <td>[[0.037811279296875, 0.0693359375, 0.89306640625]]</td>\n",
       "      <td>quiz_369.nii.gz</td>\n",
       "    </tr>\n",
       "    <tr>\n",
       "      <th>47</th>\n",
       "      <td>original_data/pancreas_test_labels/quiz_353.nii.gz</td>\n",
       "      <td>0</td>\n",
       "      <td>[[0.93408203125, 0.00096893310546875, 0.06475830078125]]</td>\n",
       "      <td>quiz_353.nii.gz</td>\n",
       "    </tr>\n",
       "    <tr>\n",
       "      <th>48</th>\n",
       "      <td>original_data/pancreas_test_labels/quiz_409.nii.gz</td>\n",
       "      <td>0</td>\n",
       "      <td>[[0.53173828125, 0.00885009765625, 0.45947265625]]</td>\n",
       "      <td>quiz_409.nii.gz</td>\n",
       "    </tr>\n",
       "    <tr>\n",
       "      <th>49</th>\n",
       "      <td>original_data/pancreas_test_labels/quiz_269.nii.gz</td>\n",
       "      <td>0</td>\n",
       "      <td>[[0.9111328125, 0.0011920928955078125, 0.08770751953125]]</td>\n",
       "      <td>quiz_269.nii.gz</td>\n",
       "    </tr>\n",
       "    <tr>\n",
       "      <th>50</th>\n",
       "      <td>original_data/pancreas_test_labels/quiz_229.nii.gz</td>\n",
       "      <td>2</td>\n",
       "      <td>[[0.01316070556640625, 0.1400146484375, 0.8466796875]]</td>\n",
       "      <td>quiz_229.nii.gz</td>\n",
       "    </tr>\n",
       "    <tr>\n",
       "      <th>51</th>\n",
       "      <td>original_data/pancreas_test_labels/quiz_357.nii.gz</td>\n",
       "      <td>2</td>\n",
       "      <td>[[0.001888275146484375, 0.427734375, 0.5703125]]</td>\n",
       "      <td>quiz_357.nii.gz</td>\n",
       "    </tr>\n",
       "    <tr>\n",
       "      <th>52</th>\n",
       "      <td>original_data/pancreas_test_labels/quiz_238.nii.gz</td>\n",
       "      <td>1</td>\n",
       "      <td>[[0.00016057491302490234, 0.82568359375, 0.174072265625]]</td>\n",
       "      <td>quiz_238.nii.gz</td>\n",
       "    </tr>\n",
       "    <tr>\n",
       "      <th>53</th>\n",
       "      <td>original_data/pancreas_test_labels/quiz_376.nii.gz</td>\n",
       "      <td>1</td>\n",
       "      <td>[[6.502866744995117e-05, 0.9072265625, 0.09283447265625]]</td>\n",
       "      <td>quiz_376.nii.gz</td>\n",
       "    </tr>\n",
       "    <tr>\n",
       "      <th>54</th>\n",
       "      <td>original_data/pancreas_test_labels/quiz_388.nii.gz</td>\n",
       "      <td>1</td>\n",
       "      <td>[[0.00014960765838623047, 0.8330078125, 0.1668701171875]]</td>\n",
       "      <td>quiz_388.nii.gz</td>\n",
       "    </tr>\n",
       "    <tr>\n",
       "      <th>55</th>\n",
       "      <td>original_data/pancreas_test_labels/quiz_378.nii.gz</td>\n",
       "      <td>2</td>\n",
       "      <td>[[0.02410888671875, 0.0921630859375, 0.8837890625]]</td>\n",
       "      <td>quiz_378.nii.gz</td>\n",
       "    </tr>\n",
       "    <tr>\n",
       "      <th>56</th>\n",
       "      <td>original_data/pancreas_test_labels/quiz_270.nii.gz</td>\n",
       "      <td>2</td>\n",
       "      <td>[[0.002796173095703125, 0.353271484375, 0.64404296875]]</td>\n",
       "      <td>quiz_270.nii.gz</td>\n",
       "    </tr>\n",
       "    <tr>\n",
       "      <th>57</th>\n",
       "      <td>original_data/pancreas_test_labels/quiz_391.nii.gz</td>\n",
       "      <td>2</td>\n",
       "      <td>[[0.056396484375, 0.052520751953125, 0.89111328125]]</td>\n",
       "      <td>quiz_391.nii.gz</td>\n",
       "    </tr>\n",
       "    <tr>\n",
       "      <th>58</th>\n",
       "      <td>original_data/pancreas_test_labels/quiz_524.nii.gz</td>\n",
       "      <td>1</td>\n",
       "      <td>[[6.872415542602539e-05, 0.90380859375, 0.09625244140625]]</td>\n",
       "      <td>quiz_524.nii.gz</td>\n",
       "    </tr>\n",
       "    <tr>\n",
       "      <th>59</th>\n",
       "      <td>original_data/pancreas_test_labels/quiz_499.nii.gz</td>\n",
       "      <td>1</td>\n",
       "      <td>[[9.298324584960938e-05, 0.87939453125, 0.1207275390625]]</td>\n",
       "      <td>quiz_499.nii.gz</td>\n",
       "    </tr>\n",
       "    <tr>\n",
       "      <th>60</th>\n",
       "      <td>original_data/pancreas_test_labels/quiz_425.nii.gz</td>\n",
       "      <td>1</td>\n",
       "      <td>[[5.1081180572509766e-05, 0.92529296875, 0.07470703125]]</td>\n",
       "      <td>quiz_425.nii.gz</td>\n",
       "    </tr>\n",
       "    <tr>\n",
       "      <th>61</th>\n",
       "      <td>original_data/pancreas_test_labels/quiz_504.nii.gz</td>\n",
       "      <td>2</td>\n",
       "      <td>[[0.0014276504516601562, 0.471923828125, 0.5263671875]]</td>\n",
       "      <td>quiz_504.nii.gz</td>\n",
       "    </tr>\n",
       "    <tr>\n",
       "      <th>62</th>\n",
       "      <td>original_data/pancreas_test_labels/quiz_521.nii.gz</td>\n",
       "      <td>2</td>\n",
       "      <td>[[0.04644775390625, 0.05963134765625, 0.89404296875]]</td>\n",
       "      <td>quiz_521.nii.gz</td>\n",
       "    </tr>\n",
       "    <tr>\n",
       "      <th>63</th>\n",
       "      <td>original_data/pancreas_test_labels/quiz_520.nii.gz</td>\n",
       "      <td>2</td>\n",
       "      <td>[[0.025634765625, 0.0880126953125, 0.88623046875]]</td>\n",
       "      <td>quiz_520.nii.gz</td>\n",
       "    </tr>\n",
       "    <tr>\n",
       "      <th>64</th>\n",
       "      <td>original_data/pancreas_test_labels/quiz_417.nii.gz</td>\n",
       "      <td>1</td>\n",
       "      <td>[[0.0004954338073730469, 0.66162109375, 0.337890625]]</td>\n",
       "      <td>quiz_417.nii.gz</td>\n",
       "    </tr>\n",
       "    <tr>\n",
       "      <th>65</th>\n",
       "      <td>original_data/pancreas_test_labels/quiz_422.nii.gz</td>\n",
       "      <td>0</td>\n",
       "      <td>[[0.93701171875, 0.0009474754333496094, 0.062042236328125]]</td>\n",
       "      <td>quiz_422.nii.gz</td>\n",
       "    </tr>\n",
       "    <tr>\n",
       "      <th>66</th>\n",
       "      <td>original_data/pancreas_test_labels/quiz_512.nii.gz</td>\n",
       "      <td>2</td>\n",
       "      <td>[[0.0095062255859375, 0.1722412109375, 0.818359375]]</td>\n",
       "      <td>quiz_512.nii.gz</td>\n",
       "    </tr>\n",
       "    <tr>\n",
       "      <th>67</th>\n",
       "      <td>original_data/pancreas_test_labels/quiz_424.nii.gz</td>\n",
       "      <td>0</td>\n",
       "      <td>[[0.94091796875, 0.0009255409240722656, 0.058319091796875]]</td>\n",
       "      <td>quiz_424.nii.gz</td>\n",
       "    </tr>\n",
       "    <tr>\n",
       "      <th>68</th>\n",
       "      <td>original_data/pancreas_test_labels/quiz_402.nii.gz</td>\n",
       "      <td>1</td>\n",
       "      <td>[[5.424022674560547e-05, 0.919921875, 0.0802001953125]]</td>\n",
       "      <td>quiz_402.nii.gz</td>\n",
       "    </tr>\n",
       "    <tr>\n",
       "      <th>69</th>\n",
       "      <td>original_data/pancreas_test_labels/quiz_408.nii.gz</td>\n",
       "      <td>2</td>\n",
       "      <td>[[0.0352783203125, 0.07177734375, 0.89306640625]]</td>\n",
       "      <td>quiz_408.nii.gz</td>\n",
       "    </tr>\n",
       "    <tr>\n",
       "      <th>70</th>\n",
       "      <td>original_data/pancreas_test_labels/quiz_428.nii.gz</td>\n",
       "      <td>2</td>\n",
       "      <td>[[0.0257720947265625, 0.08746337890625, 0.88671875]]</td>\n",
       "      <td>quiz_428.nii.gz</td>\n",
       "    </tr>\n",
       "    <tr>\n",
       "      <th>71</th>\n",
       "      <td>original_data/pancreas_test_labels/quiz_429.nii.gz</td>\n",
       "      <td>1</td>\n",
       "      <td>[[0.00012600421905517578, 0.8515625, 0.1485595703125]]</td>\n",
       "      <td>quiz_429.nii.gz</td>\n",
       "    </tr>\n",
       "  </tbody>\n",
       "</table>\n",
       "</div>"
      ],
      "text/plain": [
       "                                                  File  Label                                                        Probs            Names\n",
       "0   original_data/pancreas_test_labels/quiz_045.nii.gz      2               [[0.012847900390625, 0.143310546875, 0.84375]]  quiz_045.nii.gz\n",
       "1   original_data/pancreas_test_labels/quiz_048.nii.gz      1  [[5.5789947509765625e-05, 0.91748046875, 0.08270263671875]]  quiz_048.nii.gz\n",
       "2   original_data/pancreas_test_labels/quiz_130.nii.gz      2         [[0.403076171875, 0.01290130615234375, 0.583984375]]  quiz_130.nii.gz\n",
       "3   original_data/pancreas_test_labels/quiz_095.nii.gz      2               [[0.0074462890625, 0.19970703125, 0.79296875]]  quiz_095.nii.gz\n",
       "4   original_data/pancreas_test_labels/quiz_068.nii.gz      1     [[9.083747863769531e-05, 0.880859375, 0.11920166015625]]  quiz_068.nii.gz\n",
       "5   original_data/pancreas_test_labels/quiz_135.nii.gz      2            [[0.02935791015625, 0.081787109375, 0.888671875]]  quiz_135.nii.gz\n",
       "6   original_data/pancreas_test_labels/quiz_097.nii.gz      2          [[0.44384765625, 0.01128387451171875, 0.544921875]]  quiz_097.nii.gz\n",
       "7   original_data/pancreas_test_labels/quiz_129.nii.gz      0   [[0.90966796875, 0.0012159347534179688, 0.08929443359375]]  quiz_129.nii.gz\n",
       "8   original_data/pancreas_test_labels/quiz_108.nii.gz      2       [[0.10455322265625, 0.036407470703125, 0.85888671875]]  quiz_108.nii.gz\n",
       "9   original_data/pancreas_test_labels/quiz_052.nii.gz      2         [[0.0216217041015625, 0.09912109375, 0.87939453125]]  quiz_052.nii.gz\n",
       "10  original_data/pancreas_test_labels/quiz_053.nii.gz      1      [[5.179643630981445e-05, 0.923828125, 0.0760498046875]]  quiz_053.nii.gz\n",
       "11  original_data/pancreas_test_labels/quiz_144.nii.gz      2        [[0.0165863037109375, 0.117919921875, 0.86572265625]]  quiz_144.nii.gz\n",
       "12  original_data/pancreas_test_labels/quiz_233.nii.gz      1      [[0.00023937225341796875, 0.77734375, 0.2222900390625]]  quiz_233.nii.gz\n",
       "13  original_data/pancreas_test_labels/quiz_157.nii.gz      2          [[0.109619140625, 0.035675048828125, 0.8544921875]]  quiz_157.nii.gz\n",
       "14  original_data/pancreas_test_labels/quiz_101.nii.gz      2           [[0.0718994140625, 0.045654296875, 0.88232421875]]  quiz_101.nii.gz\n",
       "15  original_data/pancreas_test_labels/quiz_146.nii.gz      2             [[0.25341796875, 0.0199737548828125, 0.7265625]]  quiz_146.nii.gz\n",
       "16  original_data/pancreas_test_labels/quiz_056.nii.gz      1     [[0.00021648406982421875, 0.78759765625, 0.21240234375]]  quiz_056.nii.gz\n",
       "17  original_data/pancreas_test_labels/quiz_152.nii.gz      2           [[0.05517578125, 0.05279541015625, 0.89208984375]]  quiz_152.nii.gz\n",
       "18  original_data/pancreas_test_labels/quiz_137.nii.gz      0      [[0.86572265625, 0.0017652511596679688, 0.13232421875]]  quiz_137.nii.gz\n",
       "19  original_data/pancreas_test_labels/quiz_155.nii.gz      1           [[0.00011819601058959961, 0.85546875, 0.14453125]]  quiz_155.nii.gz\n",
       "20  original_data/pancreas_test_labels/quiz_257.nii.gz      2         [[0.312744140625, 0.0166473388671875, 0.6708984375]]  quiz_257.nii.gz\n",
       "21  original_data/pancreas_test_labels/quiz_069.nii.gz      1      [[4.8220157623291016e-05, 0.9296875, 0.07012939453125]]  quiz_069.nii.gz\n",
       "22  original_data/pancreas_test_labels/quiz_141.nii.gz      2        [[0.03570556640625, 0.07025146484375, 0.89404296875]]  quiz_141.nii.gz\n",
       "23  original_data/pancreas_test_labels/quiz_037.nii.gz      1     [[0.00021386146545410156, 0.794921875, 0.2049560546875]]  quiz_037.nii.gz\n",
       "24  original_data/pancreas_test_labels/quiz_047.nii.gz      1   [[8.565187454223633e-05, 0.88427734375, 0.11553955078125]]  quiz_047.nii.gz\n",
       "25  original_data/pancreas_test_labels/quiz_161.nii.gz      1    [[5.161762237548828e-05, 0.92431640625, 0.0758056640625]]  quiz_161.nii.gz\n",
       "26  original_data/pancreas_test_labels/quiz_226.nii.gz      2                   [[0.01531982421875, 0.125, 0.85986328125]]  quiz_226.nii.gz\n",
       "27  original_data/pancreas_test_labels/quiz_228.nii.gz      1     [[0.0009584426879882812, 0.54443359375, 0.454833984375]]  quiz_228.nii.gz\n",
       "28  original_data/pancreas_test_labels/quiz_162.nii.gz      2       [[0.038482666015625, 0.06732177734375, 0.89404296875]]  quiz_162.nii.gz\n",
       "29  original_data/pancreas_test_labels/quiz_092.nii.gz      0          [[0.71826171875, 0.00421142578125, 0.277587890625]]  quiz_092.nii.gz\n",
       "30  original_data/pancreas_test_labels/quiz_349.nii.gz      1     [[0.00016319751739501953, 0.82275390625, 0.17724609375]]  quiz_349.nii.gz\n",
       "31  original_data/pancreas_test_labels/quiz_271.nii.gz      2      [[0.0015926361083984375, 0.458251953125, 0.5400390625]]  quiz_271.nii.gz\n",
       "32  original_data/pancreas_test_labels/quiz_267.nii.gz      2        [[0.001667022705078125, 0.4462890625, 0.55224609375]]  quiz_267.nii.gz\n",
       "33  original_data/pancreas_test_labels/quiz_351.nii.gz      1       [[4.839897155761719e-05, 0.9296875, 0.07049560546875]]  quiz_351.nii.gz\n",
       "34  original_data/pancreas_test_labels/quiz_275.nii.gz      0    [[0.93505859375, 0.0009679794311523438, 0.0640869140625]]  quiz_275.nii.gz\n",
       "35  original_data/pancreas_test_labels/quiz_347.nii.gz      2           [[0.0120086669921875, 0.14599609375, 0.841796875]]  quiz_347.nii.gz\n",
       "36  original_data/pancreas_test_labels/quiz_282.nii.gz      0        [[0.572265625, 0.007549285888671875, 0.420166015625]]  quiz_282.nii.gz\n",
       "37  original_data/pancreas_test_labels/quiz_263.nii.gz      2          [[0.01702880859375, 0.116455078125, 0.86669921875]]  quiz_263.nii.gz\n",
       "38  original_data/pancreas_test_labels/quiz_261.nii.gz      1    [[0.00011658668518066406, 0.8583984375, 0.1414794921875]]  quiz_261.nii.gz\n",
       "39  original_data/pancreas_test_labels/quiz_361.nii.gz      1     [[8.20159912109375e-05, 0.88916015625, 0.1109619140625]]  quiz_361.nii.gz\n",
       "40  original_data/pancreas_test_labels/quiz_405.nii.gz      2      [[0.045318603515625, 0.060516357421875, 0.89404296875]]  quiz_405.nii.gz\n",
       "41  original_data/pancreas_test_labels/quiz_367.nii.gz      1   [[4.875659942626953e-05, 0.92919921875, 0.07073974609375]]  quiz_367.nii.gz\n",
       "42  original_data/pancreas_test_labels/quiz_373.nii.gz      1   [[4.750490188598633e-05, 0.93115234375, 0.06890869140625]]  quiz_373.nii.gz\n",
       "43  original_data/pancreas_test_labels/quiz_266.nii.gz      1       [[0.0003426074981689453, 0.7294921875, 0.27001953125]]  quiz_266.nii.gz\n",
       "44  original_data/pancreas_test_labels/quiz_280.nii.gz      0      [[0.85302734375, 0.0019330978393554688, 0.14501953125]]  quiz_280.nii.gz\n",
       "45  original_data/pancreas_test_labels/quiz_371.nii.gz      2     [[0.001277923583984375, 0.498779296875, 0.499755859375]]  quiz_371.nii.gz\n",
       "46  original_data/pancreas_test_labels/quiz_369.nii.gz      2           [[0.037811279296875, 0.0693359375, 0.89306640625]]  quiz_369.nii.gz\n",
       "47  original_data/pancreas_test_labels/quiz_353.nii.gz      0     [[0.93408203125, 0.00096893310546875, 0.06475830078125]]  quiz_353.nii.gz\n",
       "48  original_data/pancreas_test_labels/quiz_409.nii.gz      0           [[0.53173828125, 0.00885009765625, 0.45947265625]]  quiz_409.nii.gz\n",
       "49  original_data/pancreas_test_labels/quiz_269.nii.gz      0    [[0.9111328125, 0.0011920928955078125, 0.08770751953125]]  quiz_269.nii.gz\n",
       "50  original_data/pancreas_test_labels/quiz_229.nii.gz      2       [[0.01316070556640625, 0.1400146484375, 0.8466796875]]  quiz_229.nii.gz\n",
       "51  original_data/pancreas_test_labels/quiz_357.nii.gz      2             [[0.001888275146484375, 0.427734375, 0.5703125]]  quiz_357.nii.gz\n",
       "52  original_data/pancreas_test_labels/quiz_238.nii.gz      1    [[0.00016057491302490234, 0.82568359375, 0.174072265625]]  quiz_238.nii.gz\n",
       "53  original_data/pancreas_test_labels/quiz_376.nii.gz      1    [[6.502866744995117e-05, 0.9072265625, 0.09283447265625]]  quiz_376.nii.gz\n",
       "54  original_data/pancreas_test_labels/quiz_388.nii.gz      1    [[0.00014960765838623047, 0.8330078125, 0.1668701171875]]  quiz_388.nii.gz\n",
       "55  original_data/pancreas_test_labels/quiz_378.nii.gz      2          [[0.02410888671875, 0.0921630859375, 0.8837890625]]  quiz_378.nii.gz\n",
       "56  original_data/pancreas_test_labels/quiz_270.nii.gz      2      [[0.002796173095703125, 0.353271484375, 0.64404296875]]  quiz_270.nii.gz\n",
       "57  original_data/pancreas_test_labels/quiz_391.nii.gz      2         [[0.056396484375, 0.052520751953125, 0.89111328125]]  quiz_391.nii.gz\n",
       "58  original_data/pancreas_test_labels/quiz_524.nii.gz      1   [[6.872415542602539e-05, 0.90380859375, 0.09625244140625]]  quiz_524.nii.gz\n",
       "59  original_data/pancreas_test_labels/quiz_499.nii.gz      1    [[9.298324584960938e-05, 0.87939453125, 0.1207275390625]]  quiz_499.nii.gz\n",
       "60  original_data/pancreas_test_labels/quiz_425.nii.gz      1     [[5.1081180572509766e-05, 0.92529296875, 0.07470703125]]  quiz_425.nii.gz\n",
       "61  original_data/pancreas_test_labels/quiz_504.nii.gz      2      [[0.0014276504516601562, 0.471923828125, 0.5263671875]]  quiz_504.nii.gz\n",
       "62  original_data/pancreas_test_labels/quiz_521.nii.gz      2        [[0.04644775390625, 0.05963134765625, 0.89404296875]]  quiz_521.nii.gz\n",
       "63  original_data/pancreas_test_labels/quiz_520.nii.gz      2           [[0.025634765625, 0.0880126953125, 0.88623046875]]  quiz_520.nii.gz\n",
       "64  original_data/pancreas_test_labels/quiz_417.nii.gz      1        [[0.0004954338073730469, 0.66162109375, 0.337890625]]  quiz_417.nii.gz\n",
       "65  original_data/pancreas_test_labels/quiz_422.nii.gz      0  [[0.93701171875, 0.0009474754333496094, 0.062042236328125]]  quiz_422.nii.gz\n",
       "66  original_data/pancreas_test_labels/quiz_512.nii.gz      2         [[0.0095062255859375, 0.1722412109375, 0.818359375]]  quiz_512.nii.gz\n",
       "67  original_data/pancreas_test_labels/quiz_424.nii.gz      0  [[0.94091796875, 0.0009255409240722656, 0.058319091796875]]  quiz_424.nii.gz\n",
       "68  original_data/pancreas_test_labels/quiz_402.nii.gz      1      [[5.424022674560547e-05, 0.919921875, 0.0802001953125]]  quiz_402.nii.gz\n",
       "69  original_data/pancreas_test_labels/quiz_408.nii.gz      2            [[0.0352783203125, 0.07177734375, 0.89306640625]]  quiz_408.nii.gz\n",
       "70  original_data/pancreas_test_labels/quiz_428.nii.gz      2         [[0.0257720947265625, 0.08746337890625, 0.88671875]]  quiz_428.nii.gz\n",
       "71  original_data/pancreas_test_labels/quiz_429.nii.gz      1       [[0.00012600421905517578, 0.8515625, 0.1485595703125]]  quiz_429.nii.gz"
      ]
     },
     "execution_count": 186,
     "metadata": {},
     "output_type": "execute_result"
    }
   ],
   "source": [
    "test_preds"
   ]
  },
  {
   "cell_type": "code",
   "execution_count": 185,
   "id": "5129fa1a-ec57-4636-bab1-83cbebd633fd",
   "metadata": {},
   "outputs": [],
   "source": [
    "import pandas as pd\n",
    "\n",
    "test_preds['Names'] = test_preds['File'].apply(lambda x: x.split('/')[-1])\n",
    "final_df = test_preds[['Names', 'Label']].rename(columns={'Label': 'Subtype'})\n",
    "final_df.to_csv('/scratch/alif/nnUNet/subtype_results.csv', index=False)\n"
   ]
  },
  {
   "cell_type": "markdown",
   "id": "d8701839-f51c-419e-8a9e-0105baaa2f26",
   "metadata": {},
   "source": [
    "### Read Val"
   ]
  },
  {
   "cell_type": "code",
   "execution_count": 177,
   "id": "4a8bc9b3-4984-4ffb-a032-5b057d54c14c",
   "metadata": {},
   "outputs": [],
   "source": [
    "val_preds = pd.read_csv('/scratch/alif/nnUNet/original_data/pancreas_validation_preds/predictions.csv')"
   ]
  },
  {
   "cell_type": "code",
   "execution_count": 178,
   "id": "f6205718-1d4d-44a5-af80-6c1f2521b11b",
   "metadata": {},
   "outputs": [],
   "source": [
    "val_preds['File ID'] = val_preds['File'].str.split('/').str[-1].str.replace('.nii.gz', '')"
   ]
  },
  {
   "cell_type": "code",
   "execution_count": 179,
   "id": "813e0811-346d-4bbc-b65d-203d1a9139c0",
   "metadata": {},
   "outputs": [
    {
     "data": {
      "text/html": [
       "<div>\n",
       "<style scoped>\n",
       "    .dataframe tbody tr th:only-of-type {\n",
       "        vertical-align: middle;\n",
       "    }\n",
       "\n",
       "    .dataframe tbody tr th {\n",
       "        vertical-align: top;\n",
       "    }\n",
       "\n",
       "    .dataframe thead th {\n",
       "        text-align: right;\n",
       "    }\n",
       "</style>\n",
       "<table border=\"1\" class=\"dataframe\">\n",
       "  <thead>\n",
       "    <tr style=\"text-align: right;\">\n",
       "      <th></th>\n",
       "      <th>File</th>\n",
       "      <th>Label</th>\n",
       "      <th>Probs</th>\n",
       "      <th>File ID</th>\n",
       "    </tr>\n",
       "  </thead>\n",
       "  <tbody>\n",
       "    <tr>\n",
       "      <th>0</th>\n",
       "      <td>original_data/pancreas_validation_preds/quiz_1_213.nii.gz</td>\n",
       "      <td>1</td>\n",
       "      <td>[[5.644559860229492e-05, 0.9169921875, 0.082763671875]]</td>\n",
       "      <td>quiz_1_213</td>\n",
       "    </tr>\n",
       "    <tr>\n",
       "      <th>1</th>\n",
       "      <td>original_data/pancreas_validation_preds/quiz_1_158.nii.gz</td>\n",
       "      <td>1</td>\n",
       "      <td>[[9.578466415405273e-05, 0.8759765625, 0.123779296875]]</td>\n",
       "      <td>quiz_1_158</td>\n",
       "    </tr>\n",
       "    <tr>\n",
       "      <th>2</th>\n",
       "      <td>original_data/pancreas_validation_preds/quiz_0_174.nii.gz</td>\n",
       "      <td>2</td>\n",
       "      <td>[[0.01154327392578125, 0.1551513671875, 0.83349609375]]</td>\n",
       "      <td>quiz_0_174</td>\n",
       "    </tr>\n",
       "    <tr>\n",
       "      <th>3</th>\n",
       "      <td>original_data/pancreas_validation_preds/quiz_0_189.nii.gz</td>\n",
       "      <td>0</td>\n",
       "      <td>[[0.79296875, 0.0028553009033203125, 0.2039794921875]]</td>\n",
       "      <td>quiz_0_189</td>\n",
       "    </tr>\n",
       "    <tr>\n",
       "      <th>4</th>\n",
       "      <td>original_data/pancreas_validation_preds/quiz_1_090.nii.gz</td>\n",
       "      <td>1</td>\n",
       "      <td>[[0.00039196014404296875, 0.708984375, 0.290771484375]]</td>\n",
       "      <td>quiz_1_090</td>\n",
       "    </tr>\n",
       "  </tbody>\n",
       "</table>\n",
       "</div>"
      ],
      "text/plain": [
       "                                                        File  Label                                                    Probs     File ID\n",
       "0  original_data/pancreas_validation_preds/quiz_1_213.nii.gz      1  [[5.644559860229492e-05, 0.9169921875, 0.082763671875]]  quiz_1_213\n",
       "1  original_data/pancreas_validation_preds/quiz_1_158.nii.gz      1  [[9.578466415405273e-05, 0.8759765625, 0.123779296875]]  quiz_1_158\n",
       "2  original_data/pancreas_validation_preds/quiz_0_174.nii.gz      2  [[0.01154327392578125, 0.1551513671875, 0.83349609375]]  quiz_0_174\n",
       "3  original_data/pancreas_validation_preds/quiz_0_189.nii.gz      0   [[0.79296875, 0.0028553009033203125, 0.2039794921875]]  quiz_0_189\n",
       "4  original_data/pancreas_validation_preds/quiz_1_090.nii.gz      1  [[0.00039196014404296875, 0.708984375, 0.290771484375]]  quiz_1_090"
      ]
     },
     "execution_count": 179,
     "metadata": {},
     "output_type": "execute_result"
    }
   ],
   "source": [
    "val_preds.head()"
   ]
  },
  {
   "cell_type": "code",
   "execution_count": 180,
   "id": "92efebd2-b801-48d0-953c-2eb6da54c1bf",
   "metadata": {},
   "outputs": [],
   "source": [
    "import torch\n",
    "import ast\n",
    "\n",
    "def extract_max_prob(prob_str):\n",
    "    # Convert string to tensor\n",
    "    prob_list = ast.literal_eval(prob_str)[0]\n",
    "    # Return the maximum probability\n",
    "    return max(prob_list)\n",
    "\n",
    "# Apply the function to create a new column\n",
    "val_preds['Max_Prob'] = val_preds['Probs'].apply(extract_max_prob)"
   ]
  },
  {
   "cell_type": "code",
   "execution_count": 181,
   "id": "51f19040-3bb2-4221-9c1c-b042679e3e1f",
   "metadata": {},
   "outputs": [
    {
     "data": {
      "text/html": [
       "<div>\n",
       "<style scoped>\n",
       "    .dataframe tbody tr th:only-of-type {\n",
       "        vertical-align: middle;\n",
       "    }\n",
       "\n",
       "    .dataframe tbody tr th {\n",
       "        vertical-align: top;\n",
       "    }\n",
       "\n",
       "    .dataframe thead th {\n",
       "        text-align: right;\n",
       "    }\n",
       "</style>\n",
       "<table border=\"1\" class=\"dataframe\">\n",
       "  <thead>\n",
       "    <tr style=\"text-align: right;\">\n",
       "      <th></th>\n",
       "      <th>File</th>\n",
       "      <th>Label</th>\n",
       "      <th>Probs</th>\n",
       "      <th>File ID</th>\n",
       "      <th>Max_Prob</th>\n",
       "    </tr>\n",
       "  </thead>\n",
       "  <tbody>\n",
       "    <tr>\n",
       "      <th>0</th>\n",
       "      <td>original_data/pancreas_validation_preds/quiz_1_213.nii.gz</td>\n",
       "      <td>1</td>\n",
       "      <td>[[5.644559860229492e-05, 0.9169921875, 0.082763671875]]</td>\n",
       "      <td>quiz_1_213</td>\n",
       "      <td>0.916992</td>\n",
       "    </tr>\n",
       "    <tr>\n",
       "      <th>1</th>\n",
       "      <td>original_data/pancreas_validation_preds/quiz_1_158.nii.gz</td>\n",
       "      <td>1</td>\n",
       "      <td>[[9.578466415405273e-05, 0.8759765625, 0.123779296875]]</td>\n",
       "      <td>quiz_1_158</td>\n",
       "      <td>0.875977</td>\n",
       "    </tr>\n",
       "    <tr>\n",
       "      <th>2</th>\n",
       "      <td>original_data/pancreas_validation_preds/quiz_0_174.nii.gz</td>\n",
       "      <td>2</td>\n",
       "      <td>[[0.01154327392578125, 0.1551513671875, 0.83349609375]]</td>\n",
       "      <td>quiz_0_174</td>\n",
       "      <td>0.833496</td>\n",
       "    </tr>\n",
       "    <tr>\n",
       "      <th>3</th>\n",
       "      <td>original_data/pancreas_validation_preds/quiz_0_189.nii.gz</td>\n",
       "      <td>0</td>\n",
       "      <td>[[0.79296875, 0.0028553009033203125, 0.2039794921875]]</td>\n",
       "      <td>quiz_0_189</td>\n",
       "      <td>0.792969</td>\n",
       "    </tr>\n",
       "    <tr>\n",
       "      <th>4</th>\n",
       "      <td>original_data/pancreas_validation_preds/quiz_1_090.nii.gz</td>\n",
       "      <td>1</td>\n",
       "      <td>[[0.00039196014404296875, 0.708984375, 0.290771484375]]</td>\n",
       "      <td>quiz_1_090</td>\n",
       "      <td>0.708984</td>\n",
       "    </tr>\n",
       "  </tbody>\n",
       "</table>\n",
       "</div>"
      ],
      "text/plain": [
       "                                                        File  Label                                                    Probs     File ID  Max_Prob\n",
       "0  original_data/pancreas_validation_preds/quiz_1_213.nii.gz      1  [[5.644559860229492e-05, 0.9169921875, 0.082763671875]]  quiz_1_213  0.916992\n",
       "1  original_data/pancreas_validation_preds/quiz_1_158.nii.gz      1  [[9.578466415405273e-05, 0.8759765625, 0.123779296875]]  quiz_1_158  0.875977\n",
       "2  original_data/pancreas_validation_preds/quiz_0_174.nii.gz      2  [[0.01154327392578125, 0.1551513671875, 0.83349609375]]  quiz_0_174  0.833496\n",
       "3  original_data/pancreas_validation_preds/quiz_0_189.nii.gz      0   [[0.79296875, 0.0028553009033203125, 0.2039794921875]]  quiz_0_189  0.792969\n",
       "4  original_data/pancreas_validation_preds/quiz_1_090.nii.gz      1  [[0.00039196014404296875, 0.708984375, 0.290771484375]]  quiz_1_090  0.708984"
      ]
     },
     "execution_count": 181,
     "metadata": {},
     "output_type": "execute_result"
    }
   ],
   "source": [
    "val_preds.head()"
   ]
  },
  {
   "cell_type": "code",
   "execution_count": 182,
   "id": "b612e312-f0b1-4f22-93ef-01db9f569d25",
   "metadata": {},
   "outputs": [
    {
     "name": "stdout",
     "output_type": "stream",
     "text": [
      "Percentage of overlapping class labels: 77.78%\n",
      "Matching samples: 28\n",
      "Total samples: 36\n"
     ]
    }
   ],
   "source": [
    "df_val_subset = df_val[['File ID', 'Class Label']]\n",
    "val_preds_subset = val_preds[['File ID', 'Label', 'Max_Prob']]\n",
    "\n",
    "merged_df = df_val_subset.merge(val_preds_subset, on='File ID', how='inner')\n",
    "\n",
    "merged_df['Match'] = merged_df['Class Label'] == merged_df['Label']\n",
    "\n",
    "total_samples = len(merged_df)\n",
    "matching_samples = merged_df['Match'].sum()\n",
    "overlap_percentage = (matching_samples / total_samples) * 100\n",
    "\n",
    "print(f\"Percentage of overlapping class labels: {overlap_percentage:.2f}%\")\n",
    "print(f\"Matching samples: {matching_samples}\")\n",
    "print(f\"Total samples: {total_samples}\")"
   ]
  },
  {
   "cell_type": "code",
   "execution_count": 12,
   "id": "8ff1cabd-761d-4f5a-9367-5e289b1a3aa4",
   "metadata": {},
   "outputs": [
    {
     "name": "stdout",
     "output_type": "stream",
     "text": [
      "Percentage of overlapping class labels: 75.00%\n",
      "Matching samples: 27\n",
      "Total samples: 36\n"
     ]
    }
   ],
   "source": [
    "df_val_subset = df_val[['File ID', 'Class Label']]\n",
    "val_preds_subset = val_preds[['File ID', 'Label', 'Max_Prob']]\n",
    "\n",
    "merged_df = df_val_subset.merge(val_preds_subset, on='File ID', how='inner')\n",
    "\n",
    "merged_df['Match'] = merged_df['Class Label'] == merged_df['Label']\n",
    "\n",
    "total_samples = len(merged_df)\n",
    "matching_samples = merged_df['Match'].sum()\n",
    "overlap_percentage = (matching_samples / total_samples) * 100\n",
    "\n",
    "print(f\"Percentage of overlapping class labels: {overlap_percentage:.2f}%\")\n",
    "print(f\"Matching samples: {matching_samples}\")\n",
    "print(f\"Total samples: {total_samples}\")"
   ]
  },
  {
   "cell_type": "code",
   "execution_count": 97,
   "id": "3de6d3a5-4420-4174-92d1-3ee5cc92da28",
   "metadata": {},
   "outputs": [
    {
     "data": {
      "text/html": [
       "<div>\n",
       "<style scoped>\n",
       "    .dataframe tbody tr th:only-of-type {\n",
       "        vertical-align: middle;\n",
       "    }\n",
       "\n",
       "    .dataframe tbody tr th {\n",
       "        vertical-align: top;\n",
       "    }\n",
       "\n",
       "    .dataframe thead th {\n",
       "        text-align: right;\n",
       "    }\n",
       "</style>\n",
       "<table border=\"1\" class=\"dataframe\">\n",
       "  <thead>\n",
       "    <tr style=\"text-align: right;\">\n",
       "      <th></th>\n",
       "      <th>File ID</th>\n",
       "      <th>Class Label</th>\n",
       "      <th>Label</th>\n",
       "      <th>Max_Prob</th>\n",
       "      <th>Match</th>\n",
       "    </tr>\n",
       "  </thead>\n",
       "  <tbody>\n",
       "    <tr>\n",
       "      <th>0</th>\n",
       "      <td>quiz_2_191</td>\n",
       "      <td>2.0</td>\n",
       "      <td>2</td>\n",
       "      <td>0.886719</td>\n",
       "      <td>True</td>\n",
       "    </tr>\n",
       "    <tr>\n",
       "      <th>1</th>\n",
       "      <td>quiz_2_241</td>\n",
       "      <td>2.0</td>\n",
       "      <td>2</td>\n",
       "      <td>0.871094</td>\n",
       "      <td>True</td>\n",
       "    </tr>\n",
       "    <tr>\n",
       "      <th>2</th>\n",
       "      <td>quiz_2_084</td>\n",
       "      <td>2.0</td>\n",
       "      <td>1</td>\n",
       "      <td>0.865723</td>\n",
       "      <td>False</td>\n",
       "    </tr>\n",
       "    <tr>\n",
       "      <th>3</th>\n",
       "      <td>quiz_2_377</td>\n",
       "      <td>2.0</td>\n",
       "      <td>2</td>\n",
       "      <td>0.781250</td>\n",
       "      <td>True</td>\n",
       "    </tr>\n",
       "    <tr>\n",
       "      <th>4</th>\n",
       "      <td>quiz_2_098</td>\n",
       "      <td>2.0</td>\n",
       "      <td>2</td>\n",
       "      <td>0.884766</td>\n",
       "      <td>True</td>\n",
       "    </tr>\n",
       "  </tbody>\n",
       "</table>\n",
       "</div>"
      ],
      "text/plain": [
       "      File ID  Class Label  Label  Max_Prob  Match\n",
       "0  quiz_2_191          2.0      2  0.886719   True\n",
       "1  quiz_2_241          2.0      2  0.871094   True\n",
       "2  quiz_2_084          2.0      1  0.865723  False\n",
       "3  quiz_2_377          2.0      2  0.781250   True\n",
       "4  quiz_2_098          2.0      2  0.884766   True"
      ]
     },
     "execution_count": 97,
     "metadata": {},
     "output_type": "execute_result"
    }
   ],
   "source": [
    "merged_df.head()"
   ]
  },
  {
   "cell_type": "code",
   "execution_count": 98,
   "id": "a2543c2b-9c44-4ea6-951f-0fb54e4105d6",
   "metadata": {},
   "outputs": [],
   "source": [
    "true_labels = merged_df['Class Label'].values"
   ]
  },
  {
   "cell_type": "code",
   "execution_count": 99,
   "id": "fcd4ce68-3cfb-4a87-ae6f-134cc2442893",
   "metadata": {},
   "outputs": [],
   "source": [
    "pred_labels = merged_df['Label'].values"
   ]
  },
  {
   "cell_type": "code",
   "execution_count": 100,
   "id": "d75a5faf-1645-4634-96f6-caabead40d8d",
   "metadata": {},
   "outputs": [],
   "source": [
    "pred_probs = merged_df['Max_Prob'].values"
   ]
  },
  {
   "cell_type": "code",
   "execution_count": 101,
   "id": "120a63c4-0869-430a-a11a-9d2a7046ea07",
   "metadata": {},
   "outputs": [],
   "source": [
    "from MetricsReloaded.metrics.pairwise_measures import BinaryPairwiseMeasures as BPM\n",
    "from MetricsReloaded.metrics.prob_pairwise_measures import ProbabilityPairwiseMeasures as PPM\n",
    "from MetricsReloaded.processes.mixed_measures_processes import MultiLabelPairwiseMeasures as MLPM\n",
    "from MetricsReloaded.processes.overall_process import ProcessEvaluation as PE\n",
    "import numpy as np\n",
    "from matplotlib import pyplot as plt"
   ]
  },
  {
   "cell_type": "code",
   "execution_count": 18,
   "id": "cf6a922b-17c9-4515-b31d-63cf6943b640",
   "metadata": {},
   "outputs": [
    {
     "name": "stdout",
     "output_type": "stream",
     "text": [
      "Creation of dictionary for one single comparison case with two metrics\n",
      "{'fbeta': 0.8656716579104562, 'mcc': 0.46964663}\n"
     ]
    }
   ],
   "source": [
    "print('Creation of dictionary for one single comparison case with two metrics')\n",
    "bpm = BPM(pred_labels, true_labels, measures=['fbeta','mcc'])\n",
    "dict_seg = bpm.to_dict_meas()\n",
    "print(dict_seg)"
   ]
  },
  {
   "cell_type": "code",
   "execution_count": 19,
   "id": "f1dbe9f5-54a0-431e-8388-c9343ad69be1",
   "metadata": {},
   "outputs": [
    {
     "name": "stdout",
     "output_type": "stream",
     "text": [
      "Creation of multi process with error in choice of measure due to absence of probabilistic input\n",
      "1  is treated label\n",
      "      fbeta       mcc  label  case\n",
      "0  0.758621  0.597148      1     0\n"
     ]
    },
    {
     "name": "stderr",
     "output_type": "stream",
     "text": [
      "/scratch/alif/MetricsReloaded/MetricsReloaded/metrics/prob_pairwise_measures.py:190: RuntimeWarning: invalid value encountered in scalar divide\n",
      "  return self.tp_thr(thresh) / (self.tp_thr(thresh) + self.fp_thr(thresh))\n"
     ]
    }
   ],
   "source": [
    "print(\"Creation of multi process with error in choice of measure due to absence of probabilistic input\")\n",
    "mlpm = MLPM([pred_labels], [true_labels],[pred_probs],list_values=[1],measures_pcc=['fbeta','mcc'],measures_mt=['auroc'],per_case=True)\n",
    "df_seg, df_mt = mlpm.per_label_dict()\n",
    "print(df_seg)"
   ]
  },
  {
   "cell_type": "code",
   "execution_count": 30,
   "id": "a5d8406e-8554-4c7f-98c2-fa38e3994ddc",
   "metadata": {},
   "outputs": [
    {
     "name": "stdout",
     "output_type": "stream",
     "text": [
      "Creation of multi process with error in choice of measure due to absence of probabilistic input\n",
      "0  is treated label\n",
      "1  is treated label\n",
      "2  is treated label\n",
      "      fbeta       mcc  label  case\n",
      "0  0.800000  0.774597      0     0\n",
      "1  0.758621  0.597148      1     0\n",
      "2  0.714286  0.553399      2     0\n"
     ]
    },
    {
     "name": "stderr",
     "output_type": "stream",
     "text": [
      "/scratch/alif/MetricsReloaded/MetricsReloaded/metrics/prob_pairwise_measures.py:190: RuntimeWarning: invalid value encountered in scalar divide\n",
      "  return self.tp_thr(thresh) / (self.tp_thr(thresh) + self.fp_thr(thresh))\n"
     ]
    }
   ],
   "source": [
    "print(\"Creation of multi process with error in choice of measure due to absence of probabilistic input\")\n",
    "mlpm = MLPM([pred_labels], [true_labels],[pred_probs],list_values=[0,1,2],measures_pcc=['fbeta','mcc'],measures_mt=['auroc'],per_case=True)\n",
    "df_seg, df_mt = mlpm.per_label_dict()\n",
    "print(df_seg)"
   ]
  },
  {
   "cell_type": "code",
   "execution_count": 20,
   "id": "0da22cfd-5ee7-417b-a694-56cb69c275ab",
   "metadata": {},
   "outputs": [
    {
     "name": "stdout",
     "output_type": "stream",
     "text": [
      "Creation of full process\n",
      "1  is treated label\n",
      "list fin is  [      fbeta       mcc  label  case\n",
      "0  0.758621  0.597148      1     0,    auroc  label  case\n",
      "0    0.5      1     0]\n",
      "list fin is  [      fbeta       mcc  label  case\n",
      "0  0.758621  0.597148      1     0,    auroc  label  case\n",
      "0    0.5      1     0]\n"
     ]
    },
    {
     "name": "stderr",
     "output_type": "stream",
     "text": [
      "/scratch/alif/MetricsReloaded/MetricsReloaded/metrics/prob_pairwise_measures.py:190: RuntimeWarning: invalid value encountered in scalar divide\n",
      "  return self.tp_thr(thresh) / (self.tp_thr(thresh) + self.fp_thr(thresh))\n"
     ]
    }
   ],
   "source": [
    "print(\"Creation of full process\")\n",
    "data = {}\n",
    "data['pred_class'] = [pred_labels]\n",
    "data['ref_class'] = [true_labels]\n",
    "data['pred_prob'] = [pred_probs]\n",
    "data['list_values'] = [1]\n",
    "pe = PE(data, 'ImLC',measures_overlap=['fbeta','mcc'],measures_mt=['auroc'],case=True)"
   ]
  },
  {
   "cell_type": "markdown",
   "id": "f7ae3ba3-6258-473d-80c8-e092e6d8bfc8",
   "metadata": {},
   "source": [
    "### Confusion Matrix"
   ]
  },
  {
   "cell_type": "code",
   "execution_count": 25,
   "id": "7d0aaa01-a7fa-4471-83f8-6b9b69315375",
   "metadata": {},
   "outputs": [
    {
     "data": {
      "image/png": "[encoded data removed]",
      "text/plain": [
       "<Figure size 1000x700 with 2 Axes>"
      ]
     },
     "metadata": {},
     "output_type": "display_data"
    },
    {
     "name": "stdout",
     "output_type": "stream",
     "text": [
      "              precision    recall  f1-score   support\n",
      "\n",
      "         0.0       1.00      0.67      0.80         9\n",
      "         1.0       0.79      0.73      0.76        15\n",
      "         2.0       0.62      0.83      0.71        12\n",
      "\n",
      "    accuracy                           0.75        36\n",
      "   macro avg       0.80      0.74      0.76        36\n",
      "weighted avg       0.79      0.75      0.75        36\n",
      "\n"
     ]
    }
   ],
   "source": [
    "import numpy as np\n",
    "import pandas as pd\n",
    "import matplotlib.pyplot as plt\n",
    "from sklearn.metrics import confusion_matrix\n",
    "import seaborn as sns\n",
    "\n",
    "# Create the confusion matrix\n",
    "cm = confusion_matrix(true_labels, pred_labels)\n",
    "\n",
    "# Create a DataFrame for better visualization (optional)\n",
    "cm_df = pd.DataFrame(cm, \n",
    "                     index=['True 0', 'True 1', 'True 2'], \n",
    "                     columns=['Pred 0', 'Pred 1', 'Pred 2'])\n",
    "\n",
    "# Plot the confusion matrix\n",
    "plt.figure(figsize=(10,7))\n",
    "sns.heatmap(cm_df, annot=True, fmt='d', cmap='Blues')\n",
    "plt.title('Confusion Matrix')\n",
    "plt.ylabel('True Label')\n",
    "plt.xlabel('Predicted Label')\n",
    "plt.show()\n",
    "\n",
    "# Print classification report (optional)\n",
    "from sklearn.metrics import classification_report\n",
    "print(classification_report(true_labels, pred_labels))"
   ]
  },
  {
   "cell_type": "code",
   "execution_count": 32,
   "id": "78eefdf5-3a81-426f-85e2-055c958c7b5e",
   "metadata": {},
   "outputs": [
    {
     "data": {
      "text/plain": [
       "array([2, 2, 1, 2, 2, 2, 1, 2, 2, 2, 2, 2, 2, 2, 1, 1, 1, 1, 1, 2, 1, 2,\n",
       "       1, 1, 1, 1, 1, 0, 0, 2, 0, 0, 1, 2, 0, 0])"
      ]
     },
     "execution_count": 32,
     "metadata": {},
     "output_type": "execute_result"
    }
   ],
   "source": [
    "pred_labels"
   ]
  },
  {
   "cell_type": "code",
   "execution_count": 33,
   "id": "bbd7ebc4-82cb-4593-a0c6-cf18ffafcc20",
   "metadata": {},
   "outputs": [
    {
     "data": {
      "text/plain": [
       "array([2., 2., 2., 2., 2., 2., 2., 2., 2., 2., 2., 2., 1., 1., 1., 1., 1.,\n",
       "       1., 1., 1., 1., 1., 1., 1., 1., 1., 1., 0., 0., 0., 0., 0., 0., 0.,\n",
       "       0., 0.])"
      ]
     },
     "execution_count": 33,
     "metadata": {},
     "output_type": "execute_result"
    }
   ],
   "source": [
    "true_labels"
   ]
  },
  {
   "cell_type": "code",
   "execution_count": 36,
   "id": "a897cb51-11b4-4253-a47a-624226908b44",
   "metadata": {},
   "outputs": [
    {
     "data": {
      "image/png": "[encoded data removed]",
      "text/plain": [
       "<Figure size 1000x800 with 1 Axes>"
      ]
     },
     "metadata": {},
     "output_type": "display_data"
    }
   ],
   "source": [
    "import numpy as np\n",
    "import matplotlib.pyplot as plt\n",
    "from sklearn.preprocessing import label_binarize\n",
    "from sklearn.metrics import roc_curve, auc\n",
    "\n",
    "# Convert pred_labels and true_labels to numpy arrays if they aren't already\n",
    "pred_labels = np.array([2, 2, 1, 2, 2, 2, 1, 2, 2, 2, 2, 2, 2, 2, 1, 1, 1, 1, 1, 2, 1, 2,\n",
    "                        1, 1, 1, 1, 1, 0, 0, 2, 0, 0, 1, 2, 0, 0])\n",
    "true_labels = np.array([2., 2., 2., 2., 2., 2., 2., 2., 2., 2., 2., 2., 1., 1., 1., 1., 1.,\n",
    "                        1., 1., 1., 1., 1., 1., 1., 1., 1., 1., 0., 0., 0., 0., 0., 0., 0.,\n",
    "                        0., 0.])\n",
    "\n",
    "# Get the number of classes\n",
    "n_classes = len(np.unique(true_labels))\n",
    "\n",
    "# Convert true_labels to one-hot encoded format\n",
    "true_labels_onehot = label_binarize(true_labels, classes=range(n_classes))\n",
    "\n",
    "# Convert pred_labels to one-hot encoded format (as a proxy for probabilities)\n",
    "pred_labels_onehot = label_binarize(pred_labels, classes=range(n_classes))\n",
    "\n",
    "# Compute ROC curve and ROC area for each class\n",
    "fpr = dict()\n",
    "tpr = dict()\n",
    "roc_auc = dict()\n",
    "\n",
    "for i in range(n_classes):\n",
    "    fpr[i], tpr[i], _ = roc_curve(true_labels_onehot[:, i], pred_labels_onehot[:, i])\n",
    "    roc_auc[i] = auc(fpr[i], tpr[i])\n",
    "\n",
    "# Plot ROC curves\n",
    "plt.figure(figsize=(10, 8))\n",
    "\n",
    "colors = ['#FF4156', '#FFAA1E', '#459395']\n",
    "for i, color in zip(range(n_classes), colors):\n",
    "    plt.plot(fpr[i], tpr[i], color=color, lw=2,\n",
    "             label='ROC curve of class {0} (area = {1:0.2f})'\n",
    "             ''.format(i, roc_auc[i]))\n",
    "\n",
    "plt.plot([0, 1], [0, 1], 'k--', lw=2)\n",
    "plt.xlim([0.0, 1.0])\n",
    "plt.ylim([0.0, 1.05])\n",
    "plt.xlabel('False Positive Rate')\n",
    "plt.ylabel('True Positive Rate')\n",
    "plt.title('One-vs-Rest Multi-class ROC')\n",
    "plt.legend(loc=\"lower right\")\n",
    "plt.show()"
   ]
  },
  {
   "cell_type": "markdown",
   "id": "1332c15b-c169-4272-b7d2-8f15c73406ad",
   "metadata": {},
   "source": [
    "# Segmentation"
   ]
  },
  {
   "cell_type": "code",
   "execution_count": 123,
   "id": "3cf8cb00-ece2-45dd-b95b-717844895a88",
   "metadata": {},
   "outputs": [],
   "source": [
    "import numpy as np\n",
    "from MetricsReloaded.metrics.pairwise_measures import BinaryPairwiseMeasures as BPM\n",
    "from MetricsReloaded.processes.mixed_measures_processes import MultiLabelPairwiseMeasures as MLPM\n",
    "from MetricsReloaded.processes.overall_process import ProcessEvaluation as PE\n",
    "from matplotlib import pyplot as plt"
   ]
  },
  {
   "cell_type": "code",
   "execution_count": 120,
   "id": "62fa5721-c4b6-4542-aa78-69473c67ad8e",
   "metadata": {},
   "outputs": [],
   "source": [
    "import os\n",
    "import nibabel as nib\n",
    "import numpy as np\n",
    "\n",
    "def load_nifti_files(folder_path):\n",
    "    nifti_data = []\n",
    "    for filename in os.listdir(folder_path):\n",
    "        if filename.endswith('.nii.gz'):\n",
    "            file_path = os.path.join(folder_path, filename)\n",
    "            \n",
    "            img = nib.load(file_path)\n",
    "            data = img.get_fdata()\n",
    "            nifti_data.append( data)\n",
    "    \n",
    "    return nifti_data"
   ]
  },
  {
   "cell_type": "code",
   "execution_count": 121,
   "id": "07fdea63-af69-42cc-b5b9-9a640855db6a",
   "metadata": {},
   "outputs": [
    {
     "name": "stdout",
     "output_type": "stream",
     "text": [
      "Loaded quiz_1_154.nii.gz: Shape (195, 125, 132), Data type float64\n",
      "Loaded quiz_0_244.nii.gz: Shape (200, 96, 124), Data type float64\n",
      "Loaded quiz_2_088.nii.gz: Shape (171, 132, 54), Data type float64\n",
      "Loaded quiz_1_090.nii.gz: Shape (186, 100, 39), Data type float64\n",
      "Loaded quiz_0_253.nii.gz: Shape (197, 119, 99), Data type float64\n",
      "Loaded quiz_0_254.nii.gz: Shape (166, 166, 119), Data type float64\n",
      "Loaded quiz_0_184.nii.gz: Shape (181, 109, 50), Data type float64\n",
      "Loaded quiz_1_093.nii.gz: Shape (215, 103, 55), Data type float64\n",
      "Loaded quiz_0_168.nii.gz: Shape (309, 251, 61), Data type float64\n",
      "Loaded quiz_1_211.nii.gz: Shape (203, 121, 48), Data type float64\n",
      "Loaded quiz_1_231.nii.gz: Shape (153, 110, 48), Data type float64\n",
      "Loaded quiz_2_089.nii.gz: Shape (185, 110, 62), Data type float64\n",
      "Loaded quiz_0_187.nii.gz: Shape (191, 169, 98), Data type float64\n",
      "Loaded quiz_0_174.nii.gz: Shape (140, 94, 43), Data type float64\n",
      "Loaded quiz_1_221.nii.gz: Shape (169, 109, 111), Data type float64\n",
      "Loaded quiz_2_377.nii.gz: Shape (162, 150, 79), Data type float64\n",
      "Loaded quiz_1_158.nii.gz: Shape (139, 89, 46), Data type float64\n",
      "Loaded quiz_2_098.nii.gz: Shape (155, 100, 50), Data type float64\n",
      "Loaded quiz_0_189.nii.gz: Shape (129, 91, 93), Data type float64\n",
      "Loaded quiz_2_191.nii.gz: Shape (179, 124, 87), Data type float64\n",
      "Loaded quiz_2_085.nii.gz: Shape (147, 104, 50), Data type float64\n",
      "Loaded quiz_2_080.nii.gz: Shape (151, 114, 50), Data type float64\n",
      "Loaded quiz_2_084.nii.gz: Shape (190, 113, 110), Data type float64\n",
      "Loaded quiz_1_164.nii.gz: Shape (179, 114, 61), Data type float64\n",
      "Loaded quiz_1_094.nii.gz: Shape (194, 115, 117), Data type float64\n",
      "Loaded quiz_0_171.nii.gz: Shape (167, 144, 102), Data type float64\n",
      "Loaded quiz_2_364.nii.gz: Shape (149, 89, 40), Data type float64\n",
      "Loaded quiz_1_331.nii.gz: Shape (261, 152, 49), Data type float64\n",
      "Loaded quiz_2_379.nii.gz: Shape (165, 102, 71), Data type float64\n",
      "Loaded quiz_2_241.nii.gz: Shape (192, 126, 133), Data type float64\n",
      "Loaded quiz_1_227.nii.gz: Shape (224, 161, 124), Data type float64\n",
      "Loaded quiz_1_166.nii.gz: Shape (185, 114, 58), Data type float64\n",
      "Loaded quiz_1_242.nii.gz: Shape (207, 114, 52), Data type float64\n",
      "Loaded quiz_1_213.nii.gz: Shape (150, 98, 64), Data type float64\n",
      "Loaded quiz_1_335.nii.gz: Shape (175, 98, 99), Data type float64\n",
      "Loaded quiz_2_074.nii.gz: Shape (163, 119, 48), Data type float64\n"
     ]
    }
   ],
   "source": [
    "folder_path = 'original_data/pancreas_validation_preds'\n",
    "pred_masks = load_nifti_files(folder_path)\n",
    "\n",
    "for filename, data in nifti_arrays:\n",
    "    print(f\"Loaded {filename}: Shape {data.shape}, Data type {data.dtype}\")"
   ]
  },
  {
   "cell_type": "code",
   "execution_count": 122,
   "id": "292ce292-fbc7-47f0-9499-26dfe6ae27d1",
   "metadata": {},
   "outputs": [
    {
     "name": "stdout",
     "output_type": "stream",
     "text": [
      "Loaded quiz_1_154.nii.gz: Shape (195, 125, 132), Data type float64\n",
      "Loaded quiz_0_244.nii.gz: Shape (200, 96, 124), Data type float64\n",
      "Loaded quiz_2_088.nii.gz: Shape (171, 132, 54), Data type float64\n",
      "Loaded quiz_1_090.nii.gz: Shape (186, 100, 39), Data type float64\n",
      "Loaded quiz_0_253.nii.gz: Shape (197, 119, 99), Data type float64\n",
      "Loaded quiz_0_254.nii.gz: Shape (166, 166, 119), Data type float64\n",
      "Loaded quiz_0_184.nii.gz: Shape (181, 109, 50), Data type float64\n",
      "Loaded quiz_1_093.nii.gz: Shape (215, 103, 55), Data type float64\n",
      "Loaded quiz_0_168.nii.gz: Shape (309, 251, 61), Data type float64\n",
      "Loaded quiz_1_211.nii.gz: Shape (203, 121, 48), Data type float64\n",
      "Loaded quiz_1_231.nii.gz: Shape (153, 110, 48), Data type float64\n",
      "Loaded quiz_2_089.nii.gz: Shape (185, 110, 62), Data type float64\n",
      "Loaded quiz_0_187.nii.gz: Shape (191, 169, 98), Data type float64\n",
      "Loaded quiz_0_174.nii.gz: Shape (140, 94, 43), Data type float64\n",
      "Loaded quiz_1_221.nii.gz: Shape (169, 109, 111), Data type float64\n",
      "Loaded quiz_2_377.nii.gz: Shape (162, 150, 79), Data type float64\n",
      "Loaded quiz_1_158.nii.gz: Shape (139, 89, 46), Data type float64\n",
      "Loaded quiz_2_098.nii.gz: Shape (155, 100, 50), Data type float64\n",
      "Loaded quiz_0_189.nii.gz: Shape (129, 91, 93), Data type float64\n",
      "Loaded quiz_2_191.nii.gz: Shape (179, 124, 87), Data type float64\n",
      "Loaded quiz_2_085.nii.gz: Shape (147, 104, 50), Data type float64\n",
      "Loaded quiz_2_080.nii.gz: Shape (151, 114, 50), Data type float64\n",
      "Loaded quiz_2_084.nii.gz: Shape (190, 113, 110), Data type float64\n",
      "Loaded quiz_1_164.nii.gz: Shape (179, 114, 61), Data type float64\n",
      "Loaded quiz_1_094.nii.gz: Shape (194, 115, 117), Data type float64\n",
      "Loaded quiz_0_171.nii.gz: Shape (167, 144, 102), Data type float64\n",
      "Loaded quiz_2_364.nii.gz: Shape (149, 89, 40), Data type float64\n",
      "Loaded quiz_1_331.nii.gz: Shape (261, 152, 49), Data type float64\n",
      "Loaded quiz_2_379.nii.gz: Shape (165, 102, 71), Data type float64\n",
      "Loaded quiz_2_241.nii.gz: Shape (192, 126, 133), Data type float64\n",
      "Loaded quiz_1_227.nii.gz: Shape (224, 161, 124), Data type float64\n",
      "Loaded quiz_1_166.nii.gz: Shape (185, 114, 58), Data type float64\n",
      "Loaded quiz_1_242.nii.gz: Shape (207, 114, 52), Data type float64\n",
      "Loaded quiz_1_213.nii.gz: Shape (150, 98, 64), Data type float64\n",
      "Loaded quiz_1_335.nii.gz: Shape (175, 98, 99), Data type float64\n",
      "Loaded quiz_2_074.nii.gz: Shape (163, 119, 48), Data type float64\n"
     ]
    }
   ],
   "source": [
    "folder_path = 'original_data/pancreas_validation/labels'\n",
    "gt_masks = load_nifti_files(folder_path)\n",
    "\n",
    "for filename, data in nifti_arrays:\n",
    "    print(f\"Loaded {filename}: Shape {data.shape}, Data type {data.dtype}\")"
   ]
  },
  {
   "cell_type": "code",
   "execution_count": 40,
   "id": "d7190c80-ee37-4d84-8319-7ba25d7afd88",
   "metadata": {},
   "outputs": [
    {
     "name": "stdout",
     "output_type": "stream",
     "text": [
      "Creation of dictionary for one single comparison case with two metrics\n",
      "{'fbeta': 0.6238532056512277, 'nsd': 0.75}\n"
     ]
    }
   ],
   "source": [
    "print('Creation of dictionary for one single comparison case with two metrics')\n",
    "bpm = BPM(prediction, reference, measures=['fbeta','nsd'])\n",
    "dict_seg = bpm.to_dict_meas()\n",
    "print(dict_seg)"
   ]
  },
  {
   "cell_type": "code",
   "execution_count": 64,
   "id": "9de25329-1324-49da-a389-cd08d7c7fd6d",
   "metadata": {},
   "outputs": [
    {
     "name": "stdout",
     "output_type": "stream",
     "text": [
      "Creation of dictionary for one single comparison case with two metrics\n",
      "{'fbeta': 0.6369507220310838, 'nsd': 0.6108762754851267}\n"
     ]
    }
   ],
   "source": [
    "print('Creation of dictionary for one single comparison case with two metrics')\n",
    "bpm = BPM(pred_masks[0], gt_masks[0], measures=['fbeta','nsd'])\n",
    "dict_seg = bpm.to_dict_meas()\n",
    "print(dict_seg)"
   ]
  },
  {
   "cell_type": "code",
   "execution_count": 126,
   "id": "692ae7c9-5939-4b05-bb66-140e65868b55",
   "metadata": {},
   "outputs": [
    {
     "name": "stdout",
     "output_type": "stream",
     "text": [
      "Direct call to the metric to calculate\n"
     ]
    },
    {
     "data": {
      "text/plain": [
       "0.6319058327608561"
      ]
     },
     "execution_count": 126,
     "metadata": {},
     "output_type": "execute_result"
    }
   ],
   "source": [
    "print(\"Direct call to the metric to calculate\")\n",
    "bpm.fbeta()"
   ]
  },
  {
   "cell_type": "code",
   "execution_count": 67,
   "id": "742e76c0-ca58-411d-8347-52452c9a29db",
   "metadata": {},
   "outputs": [
    {
     "name": "stdout",
     "output_type": "stream",
     "text": [
      "Creation of process for multiple cases\n",
      "0  is treated label\n"
     ]
    },
    {
     "name": "stderr",
     "output_type": "stream",
     "text": [
      "/scratch/alif/MetricsReloaded/MetricsReloaded/processes/mixed_measures_processes.py:780: UserWarning: No probabilistic input or no probabilistic measure so impossible to get multi-threshold metric\n",
      "  warnings.warn('No probabilistic input or no probabilistic measure so impossible to get multi-threshold metric')\n"
     ]
    },
    {
     "name": "stdout",
     "output_type": "stream",
     "text": [
      "1  is treated label\n"
     ]
    },
    {
     "name": "stderr",
     "output_type": "stream",
     "text": [
      "/scratch/alif/MetricsReloaded/MetricsReloaded/metrics/pairwise_measures.py:655: UserWarning: reference is empty, recall not defined\n",
      "  warnings.warn(\"reference is empty, recall not defined\")\n"
     ]
    },
    {
     "name": "stdout",
     "output_type": "stream",
     "text": [
      "2  is treated label\n"
     ]
    },
    {
     "name": "stderr",
     "output_type": "stream",
     "text": [
      "/scratch/alif/MetricsReloaded/MetricsReloaded/metrics/pairwise_measures.py:644: UserWarning: prediction empty, ppv not defined but set to 0\n",
      "  warnings.warn(\"prediction empty, ppv not defined but set to 0\")\n",
      "/scratch/alif/MetricsReloaded/MetricsReloaded/metrics/pairwise_measures.py:658: UserWarning: prediction is empty but ref not, recall not defined but set to 0\n",
      "  warnings.warn(\n"
     ]
    },
    {
     "name": "stdout",
     "output_type": "stream",
     "text": [
      "        fbeta       nsd  label  case\n",
      "0    0.993779  0.942461      0     0\n",
      "1    0.995257  0.970733      0     1\n",
      "2    0.995399  0.976583      0     2\n",
      "3    0.995820  0.978939      0     3\n",
      "4    0.995489  0.971391      0     4\n",
      "5    0.992977  0.943823      0     5\n",
      "6    0.993524  0.980278      0     6\n",
      "7    0.990295  0.954496      0     7\n",
      "8    0.992387  0.950253      0     8\n",
      "9    0.994591  0.975824      0     9\n",
      "10   0.997248  0.990565      0    10\n",
      "11   0.993804  0.962912      0    11\n",
      "12   0.996097  0.969472      0    12\n",
      "13   0.990437  0.953102      0    13\n",
      "14   0.996238  0.982252      0    14\n",
      "15   0.986916  0.920415      0    15\n",
      "16   0.995800  0.988906      0    16\n",
      "17   0.993335  0.970414      0    17\n",
      "18   0.995475  0.978016      0    18\n",
      "19   0.992164  0.957050      0    19\n",
      "20   0.997429  0.992816      0    20\n",
      "21   0.996702  0.988448      0    21\n",
      "22   0.997048  0.977613      0    22\n",
      "23   0.989219  0.959082      0    23\n",
      "24   0.997869  0.987725      0    24\n",
      "25   0.997723  0.982691      0    25\n",
      "26   0.990365  0.962262      0    26\n",
      "27   0.996839  0.982979      0    27\n",
      "28   0.997347  0.992884      0    28\n",
      "29   0.997638  0.985715      0    29\n",
      "30   0.997390  0.977612      0    30\n",
      "31   0.995219  0.979107      0    31\n",
      "32   0.997058  0.990642      0    32\n",
      "33   0.996689  0.985557      0    33\n",
      "34   0.994796  0.967488      0    34\n",
      "35   0.997293  0.988924      0    35\n",
      "36   0.000000  0.000000      1     0\n",
      "37   0.883384  0.763977      1     1\n",
      "38   0.000000  0.000000      1     2\n",
      "39   0.792660  0.849133      1     3\n",
      "40   0.922403  0.799098      1     4\n",
      "41   0.819483  0.612277      1     5\n",
      "42   0.000000  0.000000      1     6\n",
      "43   0.000000  0.000000      1     7\n",
      "44   0.000000  0.000000      1     8\n",
      "45   0.000000  0.000000      1     9\n",
      "46   0.000000  0.000000      1    10\n",
      "47   0.763408  0.689112      1    11\n",
      "48   0.000000  0.000000      1    12\n",
      "49   0.000000  0.000000      1    13\n",
      "50   0.000000  0.000000      1    14\n",
      "51   0.000000  0.000000      1    15\n",
      "52   0.895086  0.938884      1    16\n",
      "53   0.000000  0.000000      1    17\n",
      "54   0.906862  0.815486      1    18\n",
      "55   0.000000  0.000000      1    19\n",
      "56   0.000000  0.000000      1    20\n",
      "57   0.000000  0.000000      1    21\n",
      "58   0.901855  0.814121      1    22\n",
      "59   0.000000  0.000000      1    23\n",
      "60   0.939073  0.893213      1    24\n",
      "61   0.000000  0.000000      1    25\n",
      "62   0.000000  0.000000      1    26\n",
      "63   0.000000  0.000000      1    27\n",
      "64   0.952069  0.946587      1    28\n",
      "65   0.919146  0.814641      1    29\n",
      "66   0.938918  0.847106      1    30\n",
      "67   0.000000  0.000000      1    31\n",
      "68   0.000000  0.000000      1    32\n",
      "69   0.000000  0.000000      1    33\n",
      "70   0.000000  0.000000      1    34\n",
      "71   0.000000  0.000000      1    35\n",
      "72   0.000000  0.000000      2     0\n",
      "73   0.280778  0.000000      2     1\n",
      "74   0.000000  0.000000      2     2\n",
      "75   0.053345  0.098207      2     3\n",
      "76   0.518350  0.286695      2     4\n",
      "77   0.432632  0.152614      2     5\n",
      "78   0.000000  0.000000      2     6\n",
      "79   0.000000  0.000000      2     7\n",
      "80   0.000000  0.000000      2     8\n",
      "81   0.000000  0.000000      2     9\n",
      "82   0.000000  0.000000      2    10\n",
      "83   0.784526  0.442549      2    11\n",
      "84   0.000000  0.000000      2    12\n",
      "85   0.000000  0.000000      2    13\n",
      "86   0.000000  0.000000      2    14\n",
      "87   0.000000  0.000000      2    15\n",
      "88   0.868417  0.830615      2    16\n",
      "89   0.000000  0.000000      2    17\n",
      "90   0.928099  0.787612      2    18\n",
      "91   0.000000  0.000000      2    19\n",
      "92   0.000000  0.000000      2    20\n",
      "93   0.000000  0.000000      2    21\n",
      "94   0.813027  0.516076      2    22\n",
      "95   0.000000  0.000000      2    23\n",
      "96   0.325858  0.150000      2    24\n",
      "97   0.000000  0.000000      2    25\n",
      "98   0.000000  0.000000      2    26\n",
      "99   0.000000  0.000000      2    27\n",
      "100  0.886922  0.834260      2    28\n",
      "101  0.704291  0.117137      2    29\n",
      "102  0.000000  0.000000      2    30\n",
      "103  0.000000  0.000000      2    31\n",
      "104  0.000000  0.000000      2    32\n",
      "105  0.000000  0.000000      2    33\n",
      "106  0.000000  0.000000      2    34\n",
      "107  0.000000  0.000000      2    35\n"
     ]
    }
   ],
   "source": [
    "\n",
    "# Combining multiple np arrays so as to compare item i of predictions with item i of references\n",
    "\n",
    "# list of reference np arrays\n",
    "list_ref = gt_masks\n",
    "# list of prediction np arrays\n",
    "list_pred = pred_masks\n",
    "# No use of probability maps in this setting so \n",
    "list_prob = [None] * len(gt_masks)\n",
    "\n",
    "print('Creation of process for multiple cases')\n",
    "mlpm = MLPM(list_pred, list_ref,list_prob,list_values=[0,1,2],measures_pcc=['fbeta','nsd'],per_case=True)\n",
    "df_seg, df_mt = mlpm.per_label_dict()\n",
    "print(df_seg)\n"
   ]
  },
  {
   "cell_type": "code",
   "execution_count": null,
   "id": "b40a8d8b-b7ea-4dc0-b3c2-7f62925b9423",
   "metadata": {},
   "outputs": [],
   "source": [
    "\n",
    "# # Combining multiple np arrays so as to compare item i of predictions with item i of references\n",
    "\n",
    "# # list of reference np arrays\n",
    "# list_ref = gt_masks\n",
    "# # list of prediction np arrays\n",
    "# list_pred = pred_masks\n",
    "# # No use of probability maps in this setting so \n",
    "# list_prob = [None] * len(gt_masks)\n",
    "\n",
    "# print('Creation of process for multiple cases')\n",
    "# mlpm = MLPM(list_pred, list_ref,list_prob,list_values=[0,1,2],measures_pcc=['fbeta','nsd'],per_case=True)\n",
    "# df_seg, df_mt = mlpm.per_label_dict()\n",
    "# print(df_seg)\n"
   ]
  },
  {
   "cell_type": "code",
   "execution_count": null,
   "id": "15a93aeb-5280-4101-aaea-b3c3d91afc10",
   "metadata": {},
   "outputs": [],
   "source": [
    "\n",
    "# # Showing what happens when there is an error in input: here asking to calculate auroc without a probabilistic map\n",
    "# print(\"Creation of multi process with error in choice of measure due to absence of probabilistic input\")\n",
    "# mlpm = MLPM(list_pred, list_ref,list_prob,list_values=[0,1,2],measures_pcc=['fbeta'],measures_boundary=['nsd'],measures_mt=['auroc'],per_case=True, pixdim=[1,1])\n",
    "# df_seg_v2, df_mt = mlpm.per_label_dict()\n",
    "# print(df_seg_v2)\n"
   ]
  },
  {
   "cell_type": "code",
   "execution_count": 73,
   "id": "1bc98c1b-deb6-4b2c-bb98-103fbddfc05d",
   "metadata": {},
   "outputs": [
    {
     "name": "stdout",
     "output_type": "stream",
     "text": [
      "Creation of the full process\n",
      "0  is treated label\n",
      "1  is treated label\n",
      "2  is treated label\n"
     ]
    },
    {
     "name": "stderr",
     "output_type": "stream",
     "text": [
      "/scratch/alif/MetricsReloaded/MetricsReloaded/metrics/pairwise_measures.py:644: UserWarning: prediction empty, ppv not defined but set to 0\n",
      "  warnings.warn(\"prediction empty, ppv not defined but set to 0\")\n",
      "/scratch/alif/MetricsReloaded/MetricsReloaded/metrics/pairwise_measures.py:658: UserWarning: prediction is empty but ref not, recall not defined but set to 0\n",
      "  warnings.warn(\n"
     ]
    },
    {
     "name": "stdout",
     "output_type": "stream",
     "text": [
      "        fbeta       nsd  label  case  weights_labels  prevalence_labels\n",
      "0    0.993779  0.942461      0     0               1            3040757\n",
      "1    0.995257  0.970733      0     1               1            2211027\n",
      "2    0.995399  0.976583      0     2               1            1192193\n",
      "3    0.995820  0.978939      0     3               1             705107\n",
      "4    0.995489  0.971391      0     4               1            2163364\n",
      "5    0.992977  0.943823      0     5               1            3044304\n",
      "6    0.993524  0.980278      0     6               1             895395\n",
      "7    0.990295  0.954496      0     7               1            1121988\n",
      "8    0.992387  0.950253      0     8               1            4418770\n",
      "9    0.994591  0.975824      0     9               1            1103118\n",
      "10   0.997248  0.990565      0    10               1             767320\n",
      "11   0.993804  0.962912      0    11               1            1202188\n",
      "12   0.996097  0.969472      0    12               1            3005110\n",
      "13   0.990437  0.953102      0    13               1             525808\n",
      "14   0.996238  0.982252      0    14               1            1869764\n",
      "15   0.986916  0.920415      0    15               1            1746322\n",
      "16   0.995800  0.988906      0    16               1             534393\n",
      "17   0.993335  0.970414      0    17               1             717725\n",
      "18   0.995475  0.978016      0    18               1             997803\n",
      "19   0.992164  0.957050      0    19               1            1866793\n",
      "20   0.997429  0.992816      0    20               1             727050\n",
      "21   0.996702  0.988448      0    21               1             811068\n",
      "22   0.997048  0.977613      0    22               1            2278292\n",
      "23   0.989219  0.959082      0    23               1            1129843\n",
      "24   0.997869  0.987725      0    24               1            2508517\n",
      "25   0.997723  0.982691      0    25               1            2387306\n",
      "26   0.990365  0.962262      0    26               1             482937\n",
      "27   0.996839  0.982979      0    27               1            1886991\n",
      "28   0.997347  0.992884      0    28               1            1116591\n",
      "29   0.997638  0.985715      0    29               1            3041802\n",
      "30   0.997390  0.977612      0    30               1            4302634\n",
      "31   0.995219  0.979107      0    31               1            1133166\n",
      "32   0.997058  0.990642      0    32               1            1159983\n",
      "33   0.996689  0.985557      0    33               1             898030\n",
      "34   0.994796  0.967488      0    34               1            1570166\n",
      "35   0.997293  0.988924      0    35               1             887049\n",
      "36   0.000000  0.000000      1     0               1                  1\n",
      "37   0.883384  0.763977      1     1               1             166279\n",
      "38   0.000000  0.000000      1     2               1                  1\n",
      "39   0.792660  0.849133      1     3               1              18024\n",
      "40   0.922403  0.799098      1     4               1             155507\n",
      "41   0.819483  0.612277      1     5               1             197392\n",
      "42   0.000000  0.000000      1     6               1                  1\n",
      "43   0.000000  0.000000      1     7               1                  1\n",
      "44   0.000000  0.000000      1     8               1                  1\n",
      "45   0.000000  0.000000      1     9               1                  1\n",
      "46   0.000000  0.000000      1    10               1                  1\n",
      "47   0.763408  0.689112      1    11               1              41989\n",
      "48   0.000000  0.000000      1    12               1                  1\n",
      "49   0.000000  0.000000      1    13               1                  1\n",
      "50   0.000000  0.000000      1    14               1                  1\n",
      "51   0.000000  0.000000      1    15               1                  1\n",
      "52   0.895086  0.938884      1    16               1              24256\n",
      "53   0.000000  0.000000      1    17               1                  1\n",
      "54   0.906862  0.815486      1    18               1              59208\n",
      "55   0.000000  0.000000      1    19               1                  1\n",
      "56   0.000000  0.000000      1    20               1                  1\n",
      "57   0.000000  0.000000      1    21               1                  1\n",
      "58   0.901855  0.814121      1    22               1              71891\n",
      "59   0.000000  0.000000      1    23               1                  1\n",
      "60   0.939073  0.893213      1    24               1              99874\n",
      "61   0.000000  0.000000      1    25               1                  1\n",
      "62   0.000000  0.000000      1    26               1                  1\n",
      "63   0.000000  0.000000      1    27               1                  1\n",
      "64   0.952069  0.946587      1    28               1              70153\n",
      "65   0.919146  0.814641      1    29               1             149194\n",
      "66   0.938918  0.847106      1    30               1             167578\n",
      "67   0.000000  0.000000      1    31               1                  1\n",
      "68   0.000000  0.000000      1    32               1                  1\n",
      "69   0.000000  0.000000      1    33               1                  1\n",
      "70   0.000000  0.000000      1    34               1                  1\n",
      "71   0.000000  0.000000      1    35               1                  1\n",
      "72   0.000000  0.000000      2     0               1                  1\n",
      "73   0.280778  0.000000      2     1               1               3494\n",
      "74   0.000000  0.000000      2     2               1                  1\n",
      "75   0.053345  0.098207      2     3               1               2269\n",
      "76   0.518350  0.286695      2     4               1               1986\n",
      "77   0.432632  0.152614      2     5               1              37468\n",
      "78   0.000000  0.000000      2     6               1                  1\n",
      "79   0.000000  0.000000      2     7               1                  1\n",
      "80   0.000000  0.000000      2     8               1                  1\n",
      "81   0.000000  0.000000      2     9               1                  1\n",
      "82   0.000000  0.000000      2    10               1                  1\n",
      "83   0.784526  0.442549      2    11               1              17523\n",
      "84   0.000000  0.000000      2    12               1                  1\n",
      "85   0.000000  0.000000      2    13               1                  1\n",
      "86   0.000000  0.000000      2    14               1                  1\n",
      "87   0.000000  0.000000      2    15               1                  1\n",
      "88   0.868417  0.830615      2    16               1              10417\n",
      "89   0.000000  0.000000      2    17               1                  1\n",
      "90   0.928099  0.787612      2    18               1              34716\n",
      "91   0.000000  0.000000      2    19               1                  1\n",
      "92   0.000000  0.000000      2    20               1                  1\n",
      "93   0.000000  0.000000      2    21               1                  1\n",
      "94   0.813027  0.516076      2    22               1              11517\n",
      "95   0.000000  0.000000      2    23               1                  1\n",
      "96   0.325858  0.150000      2    24               1               1879\n",
      "97   0.000000  0.000000      2    25               1                  1\n",
      "98   0.000000  0.000000      2    26               1                  1\n",
      "99   0.000000  0.000000      2    27               1                  1\n",
      "100  0.886922  0.834260      2    28               1               8186\n",
      "101  0.704291  0.117137      2    29               1              26540\n",
      "102  0.000000  0.000000      2    30               1               1724\n",
      "103  0.000000  0.000000      2    31               1                  1\n",
      "104  0.000000  0.000000      2    32               1                  1\n",
      "105  0.000000  0.000000      2    33               1                  1\n",
      "106  0.000000  0.000000      2    34               1                  1\n",
      "107  0.000000  0.000000      2    35               1                  1\n"
     ]
    }
   ],
   "source": [
    "\n",
    "# How to implement the full process when considering the three lists and resulting in a PE object \n",
    "print(\"Creation of the full process\")\n",
    "data = {}\n",
    "data['pred_class'] = list_pred\n",
    "data['ref_class'] = list_ref\n",
    "data['pred_prob'] = list_prob\n",
    "data['list_values'] = [0,1,2] # Only one labelling - binary choice here\n",
    "pe = PE(data, 'SemS',measures_overlap=['fbeta'],measures_boundary=['nsd'],case=True)\n",
    "\n",
    "print(pe.resseg)"
   ]
  },
  {
   "cell_type": "code",
   "execution_count": 128,
   "id": "25532899-b984-4d5c-8677-46fc4d595ae3",
   "metadata": {},
   "outputs": [
    {
     "name": "stdout",
     "output_type": "stream",
     "text": [
      "Creation of the full process\n",
      "0  is treated label\n",
      "1  is treated label\n",
      "2  is treated label\n"
     ]
    },
    {
     "name": "stderr",
     "output_type": "stream",
     "text": [
      "/scratch/alif/MetricsReloaded/MetricsReloaded/metrics/pairwise_measures.py:644: UserWarning: prediction empty, ppv not defined but set to 0\n",
      "  warnings.warn(\"prediction empty, ppv not defined but set to 0\")\n",
      "/scratch/alif/MetricsReloaded/MetricsReloaded/metrics/pairwise_measures.py:658: UserWarning: prediction is empty but ref not, recall not defined but set to 0\n",
      "  warnings.warn(\n"
     ]
    },
    {
     "name": "stdout",
     "output_type": "stream",
     "text": [
      "        fbeta       nsd  label  case  weights_labels  prevalence_labels\n",
      "0    0.992708  0.937397      0     0               1            3040757\n",
      "1    0.994580  0.966127      0     1               1            2211027\n",
      "2    0.994772  0.970201      0     2               1            1192193\n",
      "3    0.996491  0.981192      0     3               1             705107\n",
      "4    0.995829  0.970838      0     4               1            2163364\n",
      "5    0.994226  0.950908      0     5               1            3044304\n",
      "6    0.994748  0.980978      0     6               1             895395\n",
      "7    0.991432  0.962113      0     7               1            1121988\n",
      "8    0.994235  0.960514      0     8               1            4418770\n",
      "9    0.995383  0.980317      0     9               1            1103118\n",
      "10   0.997990  0.995476      0    10               1             767320\n",
      "11   0.994939  0.964899      0    11               1            1202188\n",
      "12   0.996948  0.979849      0    12               1            3005110\n",
      "13   0.991817  0.963387      0    13               1             525808\n",
      "14   0.996397  0.985350      0    14               1            1869764\n",
      "15   0.987217  0.918321      0    15               1            1746322\n",
      "16   0.996258  0.988738      0    16               1             534393\n",
      "17   0.993289  0.970731      0    17               1             717725\n",
      "18   0.995469  0.977097      0    18               1             997803\n",
      "19   0.964558  0.892737      0    19               1            1866793\n",
      "20   0.997739  0.994874      0    20               1             727050\n",
      "21   0.996663  0.987130      0    21               1             811068\n",
      "22   0.997563  0.983609      0    22               1            2278292\n",
      "23   0.988542  0.955185      0    23               1            1129843\n",
      "24   0.998268  0.992460      0    24               1            2508517\n",
      "25   0.998422  0.990468      0    25               1            2387306\n",
      "26   0.988959  0.958220      0    26               1             482937\n",
      "27   0.997408  0.987317      0    27               1            1886991\n",
      "28   0.997498  0.993970      0    28               1            1116591\n",
      "29   0.997627  0.985281      0    29               1            3041802\n",
      "30   0.997350  0.977157      0    30               1            4302634\n",
      "31   0.995903  0.982558      0    31               1            1133166\n",
      "32   0.997602  0.993368      0    32               1            1159983\n",
      "33   0.997585  0.991545      0    33               1             898030\n",
      "34   0.994007  0.960465      0    34               1            1570166\n",
      "35   0.997984  0.991929      0    35               1             887049\n",
      "36   0.000000  0.000000      1     0               1                  1\n",
      "37   0.918563  0.788152      1     1               1             166279\n",
      "38   0.000000  0.000000      1     2               1                  1\n",
      "39   0.823366  0.879224      1     3               1              18024\n",
      "40   0.933952  0.812587      1     4               1             155507\n",
      "41   0.835205  0.652263      1     5               1             197392\n",
      "42   0.000000  0.000000      1     6               1                  1\n",
      "43   0.000000  0.000000      1     7               1                  1\n",
      "44   0.000000  0.000000      1     8               1                  1\n",
      "45   0.000000  0.000000      1     9               1                  1\n",
      "46   0.000000  0.000000      1    10               1                  1\n",
      "47   0.829754  0.761143      1    11               1              41989\n",
      "48   0.000000  0.000000      1    12               1                  1\n",
      "49   0.000000  0.000000      1    13               1                  1\n",
      "50   0.000000  0.000000      1    14               1                  1\n",
      "51   0.000000  0.000000      1    15               1                  1\n",
      "52   0.904665  0.936801      1    16               1              24256\n",
      "53   0.000000  0.000000      1    17               1                  1\n",
      "54   0.896790  0.781374      1    18               1              59208\n",
      "55   0.000000  0.000000      1    19               1                  1\n",
      "56   0.000000  0.000000      1    20               1                  1\n",
      "57   0.000000  0.000000      1    21               1                  1\n",
      "58   0.912661  0.835360      1    22               1              71891\n",
      "59   0.000000  0.000000      1    23               1                  1\n",
      "60   0.946870  0.920684      1    24               1              99874\n",
      "61   0.000000  0.000000      1    25               1                  1\n",
      "62   0.000000  0.000000      1    26               1                  1\n",
      "63   0.000000  0.000000      1    27               1                  1\n",
      "64   0.954878  0.957906      1    28               1              70153\n",
      "65   0.927774  0.852525      1    29               1             149194\n",
      "66   0.938260  0.848129      1    30               1             167578\n",
      "67   0.000000  0.000000      1    31               1                  1\n",
      "68   0.000000  0.000000      1    32               1                  1\n",
      "69   0.000000  0.000000      1    33               1                  1\n",
      "70   0.000000  0.000000      1    34               1                  1\n",
      "71   0.000000  0.000000      1    35               1                  1\n",
      "72   0.000000  0.000000      2     0               1                  1\n",
      "73   0.616606  0.205414      2     1               1               3494\n",
      "74   0.000000  0.000000      2     2               1                  1\n",
      "75   0.215730  0.249344      2     3               1               2269\n",
      "76   0.306756  0.454961      2     4               1               1986\n",
      "77   0.515976  0.201982      2     5               1              37468\n",
      "78   0.000000  0.000000      2     6               1                  1\n",
      "79   0.000000  0.000000      2     7               1                  1\n",
      "80   0.000000  0.000000      2     8               1                  1\n",
      "81   0.000000  0.000000      2     9               1                  1\n",
      "82   0.000000  0.000000      2    10               1                  1\n",
      "83   0.864157  0.610458      2    11               1              17523\n",
      "84   0.000000  0.000000      2    12               1                  1\n",
      "85   0.000000  0.000000      2    13               1                  1\n",
      "86   0.000000  0.000000      2    14               1                  1\n",
      "87   0.000000  0.000000      2    15               1                  1\n",
      "88   0.826311  0.772082      2    16               1              10417\n",
      "89   0.000000  0.000000      2    17               1                  1\n",
      "90   0.900926  0.668162      2    18               1              34716\n",
      "91   0.000000  0.000000      2    19               1                  1\n",
      "92   0.000000  0.000000      2    20               1                  1\n",
      "93   0.000000  0.000000      2    21               1                  1\n",
      "94   0.818882  0.533365      2    22               1              11517\n",
      "95   0.000000  0.000000      2    23               1                  1\n",
      "96   0.552954  0.365437      2    24               1               1879\n",
      "97   0.000000  0.000000      2    25               1                  1\n",
      "98   0.000000  0.000000      2    26               1                  1\n",
      "99   0.000000  0.000000      2    27               1                  1\n",
      "100  0.903974  0.910170      2    28               1               8186\n",
      "101  0.795542  0.519077      2    29               1              26540\n",
      "102  0.000000  0.000000      2    30               1               1724\n",
      "103  0.000000  0.000000      2    31               1                  1\n",
      "104  0.000000  0.000000      2    32               1                  1\n",
      "105  0.000000  0.000000      2    33               1                  1\n",
      "106  0.000000  0.000000      2    34               1                  1\n",
      "107  0.000000  0.000000      2    35               1                  1\n"
     ]
    }
   ],
   "source": [
    "\n",
    "# How to implement the full process when considering the three lists and resulting in a PE object \n",
    "print(\"Creation of the full process\")\n",
    "data = {}\n",
    "data['pred_class'] = list_pred\n",
    "data['ref_class'] = list_ref\n",
    "data['pred_prob'] = list_prob\n",
    "data['list_values'] = [0,1,2] # Only one labelling - binary choice here\n",
    "pe = PE(data, 'SemS',measures_overlap=['fbeta'],measures_boundary=['nsd'],case=True)\n",
    "\n",
    "print(pe.resseg)"
   ]
  },
  {
   "cell_type": "code",
   "execution_count": 129,
   "id": "9bcc3045-ee0f-4132-af49-0bcc708a41de",
   "metadata": {},
   "outputs": [
    {
     "data": {
      "text/plain": [
       "0.9944001526930073"
      ]
     },
     "execution_count": 129,
     "metadata": {},
     "output_type": "execute_result"
    }
   ],
   "source": [
    "pe.resseg[pe.resseg['label'] == 0]['fbeta'].mean()"
   ]
  },
  {
   "cell_type": "code",
   "execution_count": 131,
   "id": "565480c1-7595-4306-8b33-58c406b258d5",
   "metadata": {},
   "outputs": [
    {
     "data": {
      "text/plain": [
       "0.30063162730257065"
      ]
     },
     "execution_count": 131,
     "metadata": {},
     "output_type": "execute_result"
    }
   ],
   "source": [
    "pe.resseg[pe.resseg['label'] == 1]['fbeta'].mean()"
   ]
  },
  {
   "cell_type": "code",
   "execution_count": 132,
   "id": "5c6069f5-7a52-4eb3-b4f8-56f106bb7abc",
   "metadata": {},
   "outputs": [
    {
     "data": {
      "text/plain": [
       "0.20327263007504462"
      ]
     },
     "execution_count": 132,
     "metadata": {},
     "output_type": "execute_result"
    }
   ],
   "source": [
    "pe.resseg[pe.resseg['label'] == 2]['fbeta'].mean()"
   ]
  },
  {
   "cell_type": "code",
   "execution_count": 133,
   "id": "9b2ff117-c110-4591-be5a-649a23839f36",
   "metadata": {},
   "outputs": [
    {
     "data": {
      "text/plain": [
       "0.9728529273395989"
      ]
     },
     "execution_count": 133,
     "metadata": {},
     "output_type": "execute_result"
    }
   ],
   "source": [
    "pe.resseg[pe.resseg['label'] == 0]['nsd'].mean()"
   ]
  },
  {
   "cell_type": "code",
   "execution_count": 134,
   "id": "7ffbf418-b9c0-42f9-96cb-ba0d5149eca3",
   "metadata": {},
   "outputs": [
    {
     "data": {
      "text/plain": [
       "0.2785041087588617"
      ]
     },
     "execution_count": 134,
     "metadata": {},
     "output_type": "execute_result"
    }
   ],
   "source": [
    "pe.resseg[pe.resseg['label'] == 1]['nsd'].mean()"
   ]
  },
  {
   "cell_type": "code",
   "execution_count": 135,
   "id": "16ace912-b579-458d-8be6-47f5ab31c316",
   "metadata": {},
   "outputs": [
    {
     "data": {
      "text/plain": [
       "0.15251256440467656"
      ]
     },
     "execution_count": 135,
     "metadata": {},
     "output_type": "execute_result"
    }
   ],
   "source": [
    "pe.resseg[pe.resseg['label'] == 2]['nsd'].mean()"
   ]
  }
 ],
 "metadata": {
  "kernelspec": {
   "display_name": "Python 3.10.13",
   "language": "python",
   "name": "py310-13"
  },
  "language_info": {
   "codemirror_mode": {
    "name": "ipython",
    "version": 3
   },
   "file_extension": ".py",
   "mimetype": "text/x-python",
   "name": "python",
   "nbconvert_exporter": "python",
   "pygments_lexer": "ipython3",
   "version": "3.10.13"
  }
 },
 "nbformat": 4,
 "nbformat_minor": 5
}
